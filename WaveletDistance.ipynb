{
 "cells": [
  {
   "cell_type": "code",
   "execution_count": 1,
   "metadata": {},
   "outputs": [],
   "source": [
    "import pandas as pd\n",
    "from DataCreation.DataLoader import load_df\n",
    "import pywt\n",
    "import numpy as np\n",
    "import numpy as np\n",
    "from matplotlib import pyplot as plt\n",
    "from scipy.signal import welch\n",
    "import cv2\n",
    "import scipy.signal as sig\n",
    "from sklearn.neighbors import KNeighborsClassifier\n",
    "from tqdm import tqdm\n",
    "from scipy.stats import wasserstein_distance\n",
    "from sklearn.metrics import accuracy_score, balanced_accuracy_score, f1_score\n",
    "from sklearn.model_selection import train_test_split\n",
    "from matplotlib import pyplot as plt"
   ]
  },
  {
   "cell_type": "code",
   "execution_count": 2,
   "metadata": {},
   "outputs": [],
   "source": [
    "%matplotlib inline"
   ]
  },
  {
   "cell_type": "code",
   "execution_count": 3,
   "metadata": {},
   "outputs": [],
   "source": [
    "train = pd.read_parquet(\"DataCreation/train_alive_filtered.parquet\")\n",
    "test = pd.read_parquet(\"DataCreation/test_alive_filtered.parquet\")\n",
    "val = pd.read_parquet(\"DataCreation/val_alive_filtered.parquet\")"
   ]
  },
  {
   "cell_type": "code",
   "execution_count": 4,
   "metadata": {},
   "outputs": [],
   "source": [
    "train[\"RECG_N\"] = train[\"RECG_N\"].apply(lambda x: x[:512])\n",
    "test[\"RECG_N\"] = test[\"RECG_N\"].apply(lambda x: x[:512])\n",
    "val[\"RECG_N\"] = val[\"RECG_N\"].apply(lambda x: x[:512])\n",
    "\n",
    "train[\"RSignalLen\"] = train[\"RECG_N\"].apply(lambda x: len(x))\n",
    "test[\"RSignalLen\"] = test[\"RECG_N\"].apply(lambda x: len(x))\n",
    "val[\"RSignalLen\"] = val[\"RECG_N\"].apply(lambda x: len(x))"
   ]
  },
  {
   "cell_type": "code",
   "execution_count": 5,
   "metadata": {},
   "outputs": [],
   "source": [
    "maxlen = train[\"RSignalLen\"].max()\n",
    "\n",
    "train[\"padECG\"] = train[\"RECG_N\"].apply(lambda x: np.pad(x, [(0, maxlen  - len(x))])[:maxlen])\n",
    "test[\"padECG\"] = test[\"RECG_N\"].apply(lambda x: np.pad(x, [(0, maxlen  - len(x))])[:maxlen])\n",
    "val[\"padECG\"] = val[\"RECG_N\"].apply(lambda x: np.pad(x, [(0, maxlen  - len(x))])[:maxlen])\n",
    "\n",
    "mean_ECG = np.mean(train[\"padECG\"].values)\n",
    "std_ECG = np.mean(test[\"padECG\"].values)"
   ]
  },
  {
   "cell_type": "code",
   "execution_count": 6,
   "metadata": {},
   "outputs": [
    {
     "data": {
      "text/plain": [
       "512"
      ]
     },
     "execution_count": 6,
     "metadata": {},
     "output_type": "execute_result"
    }
   ],
   "source": [
    "maxlen"
   ]
  },
  {
   "cell_type": "code",
   "execution_count": 7,
   "metadata": {},
   "outputs": [],
   "source": [
    "train[\"scaledECG\"] = train[\"padECG\"].apply(lambda x: (x - mean_ECG) / std_ECG)\n",
    "test[\"scaledECG\"] = test[\"padECG\"].apply(lambda x: (x - mean_ECG) / std_ECG)\n",
    "val[\"scaledECG\"] = val[\"padECG\"].apply(lambda x: (x - mean_ECG) / std_ECG)\n",
    "\n",
    "\n",
    "train[\"welch\"] = train[\"scaledECG\"].apply(lambda x: welch(x)[1])\n",
    "test[\"welch\"] = test[\"scaledECG\"].apply(lambda x: welch(x)[1])\n",
    "val[\"welch\"] = val[\"scaledECG\"].apply(lambda x: welch(x)[1])\n",
    "\n",
    "train[\"nwelch\"] = train[\"welch\"].apply(lambda x: x / np.sum(x))\n",
    "test[\"nwelch\"] = test[\"welch\"].apply(lambda x: x / np.sum(x))\n",
    "val[\"nwelch\"] = val[\"welch\"].apply(lambda x: x/ np.sum(x))"
   ]
  },
  {
   "cell_type": "code",
   "execution_count": 8,
   "metadata": {},
   "outputs": [],
   "source": [
    "def create_scalogram(signal, level, filter_type):\n",
    "    #n = int(maxlen/ (2 ** level)) + 1\n",
    "    #print(n)\n",
    "    signal = np.pad(signal, [(0, 2**level  - len(signal))])\n",
    "    #print(len(signal))\n",
    "    dwt = pywt.swt(signal, filter_type, level=level)\n",
    "    #print(len(dwt[0][1]))\n",
    "    m = np.concatenate([x[1] for x in dwt]).reshape(-1, len(signal))\n",
    "    #print(\"new\")\n",
    "    #print(m.shape)\n",
    "    s = np.sum(np.power(m, 2))\n",
    "    m = np.power(m, 2) / (s * 1.0)\n",
    "    #print(m.shape)\n",
    "    return m\n"
   ]
  },
  {
   "cell_type": "code",
   "execution_count": 9,
   "metadata": {},
   "outputs": [],
   "source": [
    "def new_create_scalogram(decrease_rate, signal, level, filter_type):\n",
    "    #n = int(maxlen/ (2 ** level)) + 1\n",
    "    #print(n)\n",
    "    CA = signal\n",
    "    for i in range(decrease_rate):\n",
    "        CA, CD = pywt.dwt(CA, filter_type)\n",
    "    signal = np.pad(CA, [(0, 2**level - len(CA))])\n",
    "    #print(len(signal))\n",
    "    dwt = pywt.swt(signal, filter_type, level=level)\n",
    "    #print(len(dwt[0][1]))\n",
    "    m = np.concatenate([x[1] for x in dwt]).reshape(-1, len(signal))\n",
    "    \n",
    "    #print(m.shape)\n",
    "    s = np.sum(np.power(m, 2))\n",
    "    m = np.power(m, 2) / (s * 1.0)\n",
    "    #print(m.shape)\n",
    "    return m"
   ]
  },
  {
   "cell_type": "code",
   "execution_count": 10,
   "metadata": {},
   "outputs": [],
   "source": [
    "from tqdm import tqdm\n",
    "import multiprocess as mp"
   ]
  },
  {
   "cell_type": "code",
   "execution_count": 11,
   "metadata": {},
   "outputs": [],
   "source": [
    "def get_distance_matrix(train, test, distance):\n",
    "    dist_matrix = np.zeros((test.shape[0], train.shape[0]))\n",
    "    for i in tqdm(range(test.shape[0])):\n",
    "        for j in range(train.shape[0]):\n",
    "            dist_matrix[i,j] = distance(test[i] , train[j])\n",
    "    return dist_matrix"
   ]
  },
  {
   "cell_type": "code",
   "execution_count": 12,
   "metadata": {},
   "outputs": [
    {
     "name": "stderr",
     "output_type": "stream",
     "text": [
      "/Users/valeria.guryanova/anaconda3/lib/python3.8/site-packages/tqdm/std.py:697: FutureWarning: The Panel class is removed from pandas. Accessing it from the top-level namespace will also be removed in the next version\n",
      "  from pandas import Panel\n"
     ]
    }
   ],
   "source": [
    "from tqdm import tqdm, tqdm_notebook\n",
    "tqdm.pandas()"
   ]
  },
  {
   "cell_type": "code",
   "execution_count": 13,
   "metadata": {},
   "outputs": [],
   "source": [
    "def emd_preparation(maxlen, df_train, df_test, df_val, \n",
    "                    levels, filter_type, l1, l2, \n",
    "                    p_train, p_test, p_val,\n",
    "                    write=False, rs=\"full\", ):\n",
    "    names = []\n",
    "    df_train = df_train.copy()\n",
    "    df_test = df_test.copy()\n",
    "    df_val = df_val.copy()\n",
    "    df_train[\"scalogram\"] = df_train[\"scaledECG\"].progress_apply(lambda x: create_scalogram(x, levels, filter_type)[l1:l2])\n",
    "    df_test[\"scalogram\"] = df_test[\"scaledECG\"].progress_apply(lambda x: create_scalogram(x, levels, filter_type)[l1:l2])\n",
    "    df_val[\"scalogram\"] = df_val[\"scaledECG\"].progress_apply(lambda x: create_scalogram(x, levels, filter_type)[l1:l2])\n",
    "    matrix_shape = df_train[\"scalogram\"][100].shape\n",
    "    print(matrix_shape)\n",
    "    df_train[\"scalogram\"] = df_train[\"scalogram\"].apply(lambda x: x.reshape(-1))\n",
    "    df_test[\"scalogram\"] = df_test[\"scalogram\"].apply(lambda x: x.reshape(-1))\n",
    "    df_val[\"scalogram\"] = df_val[\"scalogram\"].apply(lambda x: x.reshape(-1))\n",
    "    if write:\n",
    "        name =  str(maxlen) +\"_\" + filter_type + \"_\" + str(levels) + \"_\"  + str(l1) + \"_\" +str(l2) + \"_\"+ str(rs) \n",
    "        name += \"_\" + str(matrix_shape[0]) + \"_\" + str(matrix_shape[1]) + \"_\" + str(p_train)\n",
    "               \n",
    "        name_train = \"train\" + \"_\" + name \n",
    "        name_test = \"test\" + \"_\" + name\n",
    "        name_val = \"val\" + \"_\" + name\n",
    "        if rs != \"full\":\n",
    "            name_test += \"_\" + str(p_test)\n",
    "            name_val += \"_\" + str(p_val)\n",
    "        print(name_train)\n",
    "        print(name_test)\n",
    "        print(name_val)\n",
    "        names.append(name_train)\n",
    "        names.append(name_val)\n",
    "        names.append(name_test)\n",
    "        df_train.to_parquet(\"DistanceData/\" + name_train + \".p\")\n",
    "        df_test.to_parquet(\"DistanceData/\" + name_test + \".p\")\n",
    "        df_val.to_parquet(\"DistanceData/\" + name_val +\".p\")\n",
    "    return df_train, df_test, df_val, names\n",
    "            "
   ]
  },
  {
   "cell_type": "code",
   "execution_count": null,
   "metadata": {},
   "outputs": [],
   "source": []
  },
  {
   "cell_type": "code",
   "execution_count": 90,
   "metadata": {},
   "outputs": [],
   "source": [
    "def get_quallity(df, prediction, print_by_cat=False):\n",
    "    df = df.copy()\n",
    "    df[\"pred\"] = prediction\n",
    "    #df = df[df[\"target\"]!=\"~\"].copy()\n",
    "    \n",
    "    a = accuracy_score(df[\"target\"], df[\"pred\"])\n",
    "    if print_by_cat:\n",
    "        df[\"indicator\"] = df[\"pred\"] == df[\"target\"]\n",
    "        print(df.groupby(\"target\").indicator.mean())\n",
    "    f1 = f1_score(df[\"target\"], df[\"pred\"], average='weighted')\n",
    "    #print(f1)\n",
    "    b_a = balanced_accuracy_score(df[\"target\"], df[\"pred\"])\n",
    "    #print(b_a)\n",
    "    return a, f1, b_a\n",
    "\n",
    "def get_quality_on_classifier(k, test_train_mat, train_df, test_df, print_by_cat=False,\n",
    "                              weights='uniform'):\n",
    "    distance_matrix_train =  np.random.rand(train_df.shape[0], train_df.shape[0])\n",
    "    neigh = KNeighborsClassifier(n_neighbors=k, metric=\"precomputed\", weights=weights)\n",
    "    neigh.fit(np.array(distance_matrix_train), train_df[\"target\"])\n",
    "    prediction = neigh.predict(test_train_mat)\n",
    "    a, f1, b_a = get_quallity(test_df, prediction, print_by_cat)\n",
    "    return a, f1, b_a\n",
    "\n",
    "def evaluate(max_k, df_train, df_test, df_val, test_distances, \n",
    "                val_distances, weights, return_vals=True):\n",
    "    accs = []\n",
    "    f1s = []\n",
    "    b_as = []\n",
    "    for i in range(1, max_k + 1):\n",
    "        a, f1, b_a = get_quality_on_classifier(i, val_distances,\n",
    "                             df_train, df_val, weights=weights)\n",
    "        accs.append(a)\n",
    "        f1s.append(f1)\n",
    "        b_as.append(b_a)\n",
    "    print(\"****accuracy****\")\n",
    "    k_acc = np.argmax(accs)+1\n",
    "    get_quality_on_classifier(k_acc, val_distances, df_train, df_val, False, weights=weights)\n",
    "    k_f = np.argmax(f1s)+1\n",
    "    get_quality_on_classifier(k_f, val_distances, df_train, df_val, False, weights=weights)\n",
    "    f1_val = max(f1s)\n",
    "    a_main, f1, b_a = get_quality_on_classifier(k_acc, test_distances,\n",
    "                                           df_train, df_test, True, weights=weights)\n",
    "    print(a_main, \" k = \", k_acc)\n",
    "    print(\"****f1_score****\")\n",
    "    a, f1_main, b_a = get_quality_on_classifier(k_f, test_distances,\n",
    "                             df_train, df_test, True, weights=weights)\n",
    "    print(f1_main, \" k = \", k_f)\n",
    "    if return_vals:\n",
    "        return f1_val, f1_main"
   ]
  },
  {
   "cell_type": "code",
   "execution_count": 15,
   "metadata": {},
   "outputs": [
    {
     "name": "stderr",
     "output_type": "stream",
     "text": [
      "100%|██████████| 726/726 [00:03<00:00, 230.95it/s]\n",
      "100%|██████████| 618/618 [00:02<00:00, 247.06it/s]\n",
      "100%|██████████| 630/630 [00:02<00:00, 240.32it/s]\n"
     ]
    },
    {
     "name": "stdout",
     "output_type": "stream",
     "text": [
      "(7, 512)\n",
      "train_512_bior6.8_9_0_7_11_7_512_0.15\n",
      "test_512_bior6.8_9_0_7_11_7_512_0.15_0.3\n",
      "val_512_bior6.8_9_0_7_11_7_512_0.15_0.3\n"
     ]
    }
   ],
   "source": [
    "random_state = 11\n",
    "train_size = 0.15\n",
    "test_size = 0.3\n",
    "val_size = 0.3\n",
    "levels = 9\n",
    "filter_type = \"bior6.8\"\n",
    "l1  = 0\n",
    "l2 = 7\n",
    "decrease_rate = 2\n",
    "\n",
    "sample_train = train_test_split(train, test_size=train_size, stratify = train.target.values,\n",
    "                                random_state=random_state)[1].reset_index(drop=True)\n",
    "sample_test = train_test_split(test, test_size=test_size, stratify = test.target.values,\n",
    "                               random_state=random_state)[1].reset_index(drop=True)\n",
    "sample_val = train_test_split(val, test_size=val_size, stratify = val.target.values,\n",
    "                               random_state=random_state)[1].reset_index(drop=True)\n",
    "\n",
    "\n",
    "df_train, df_test, df_val, names = emd_preparation(maxlen, sample_train, sample_test, sample_val, \n",
    "                                            levels, filter_type, l1, l2, \n",
    "                                            train_size, test_size, val_size,\n",
    "                                            write=True, rs=random_state)\n",
    "\n"
   ]
  },
  {
   "cell_type": "code",
   "execution_count": 83,
   "metadata": {},
   "outputs": [
    {
     "data": {
      "text/plain": [
       "'test_512_bior6.8_9_0_8_11_8_512_0.15_0.3'"
      ]
     },
     "execution_count": 83,
     "metadata": {},
     "output_type": "execute_result"
    }
   ],
   "source": [
    "names[2]"
   ]
  },
  {
   "cell_type": "code",
   "execution_count": 93,
   "metadata": {},
   "outputs": [],
   "source": [
    "def get_best_alpha_and_plot(df_train, df_val, df_test, name_val, name_test):\n",
    "    alpha_values = [1.4, 1, 0.8, 0.5, 0.3, 0.2, 0.1, 0.07, 0.03, 0.001]\n",
    "    f_vals = []\n",
    "    f_tests = []\n",
    "    for i in alpha_values:\n",
    "        test_distances = pd.read_csv(\"DistanceData/\" + name_test+\"_\" + str(i) +  \"_dist.csv\", index_col=False).drop(\"Unnamed: 0\", axis=1)\n",
    "        val_distances = pd.read_csv(\"DistanceData/\" + name_val+\"_\" + str(i) +  \"_dist.csv\", index_col=False).drop(\"Unnamed: 0\", axis=1)\n",
    "        f_val, f_test =  evaluate(50, df_train, df_test, df_val, test_distances, val_distances, weights=\"distance\")\n",
    "        f_vals.append(f_val)\n",
    "        f_tests.append(f_test)\n",
    "    best_ind = np.argmax(f_vals)\n",
    "    best_alpha = alpha_values[best_ind]\n",
    "    final_f = f_tests[best_ind]\n",
    "    \n",
    "    return best_alpha, final_f, alpha_values, f_tests\n",
    "    \n",
    "    "
   ]
  },
  {
   "cell_type": "markdown",
   "metadata": {},
   "source": [
    "7 уровней"
   ]
  },
  {
   "cell_type": "code",
   "execution_count": 116,
   "metadata": {},
   "outputs": [],
   "source": [
    "name_test = 'test_512_bior6.8_9_0_7_11_7_512_0.15_0.3'\n",
    "name_val = 'val_512_bior6.8_9_0_7_11_7_512_0.15_0.3'"
   ]
  },
  {
   "cell_type": "code",
   "execution_count": 117,
   "metadata": {
    "scrolled": true
   },
   "outputs": [
    {
     "name": "stdout",
     "output_type": "stream",
     "text": [
      "****accuracy****\n",
      "target\n",
      "A    0.000000\n",
      "N    0.991848\n",
      "O    0.025907\n",
      "~    0.000000\n",
      "Name: indicator, dtype: float64\n",
      "0.598705501618123  k =  44\n",
      "****f1_score****\n",
      "target\n",
      "A    0.018519\n",
      "N    0.861413\n",
      "O    0.155440\n",
      "~    0.000000\n",
      "Name: indicator, dtype: float64\n",
      "0.4933742427550479  k =  8\n",
      "****accuracy****\n",
      "target\n",
      "A    0.000000\n",
      "N    0.989130\n",
      "O    0.025907\n",
      "~    0.000000\n",
      "Name: indicator, dtype: float64\n",
      "0.5970873786407767  k =  44\n",
      "****f1_score****\n",
      "target\n",
      "A    0.074074\n",
      "N    0.788043\n",
      "O    0.248705\n",
      "~    0.000000\n",
      "Name: indicator, dtype: float64\n",
      "0.5132247796471703  k =  4\n",
      "****accuracy****\n",
      "target\n",
      "A    0.000000\n",
      "N    0.989130\n",
      "O    0.015544\n",
      "~    0.000000\n",
      "Name: indicator, dtype: float64\n",
      "0.5938511326860841  k =  47\n",
      "****f1_score****\n",
      "target\n",
      "A    0.074074\n",
      "N    0.777174\n",
      "O    0.243523\n",
      "~    0.000000\n",
      "Name: indicator, dtype: float64\n",
      "0.5062732295162724  k =  4\n",
      "****accuracy****\n",
      "target\n",
      "A    0.000000\n",
      "N    0.991848\n",
      "O    0.015544\n",
      "~    0.000000\n",
      "Name: indicator, dtype: float64\n",
      "0.5954692556634305  k =  49\n",
      "****f1_score****\n",
      "target\n",
      "A    0.074074\n",
      "N    0.774457\n",
      "O    0.248705\n",
      "~    0.000000\n",
      "Name: indicator, dtype: float64\n",
      "0.5072852858391186  k =  4\n",
      "****accuracy****\n",
      "target\n",
      "A    0.000000\n",
      "N    0.989130\n",
      "O    0.020725\n",
      "~    0.000000\n",
      "Name: indicator, dtype: float64\n",
      "0.5954692556634305  k =  49\n",
      "****f1_score****\n",
      "target\n",
      "A    0.055556\n",
      "N    0.769022\n",
      "O    0.269430\n",
      "~    0.000000\n",
      "Name: indicator, dtype: float64\n",
      "0.5109643880836463  k =  4\n",
      "****accuracy****\n",
      "target\n",
      "A    0.000000\n",
      "N    0.994565\n",
      "O    0.015544\n",
      "~    0.000000\n",
      "Name: indicator, dtype: float64\n",
      "0.5970873786407767  k =  50\n",
      "****f1_score****\n",
      "target\n",
      "A    0.037037\n",
      "N    0.785326\n",
      "O    0.259067\n",
      "~    0.000000\n",
      "Name: indicator, dtype: float64\n",
      "0.5109364567572329  k =  4\n",
      "****accuracy****\n",
      "target\n",
      "A    0.000000\n",
      "N    0.991848\n",
      "O    0.005181\n",
      "~    0.000000\n",
      "Name: indicator, dtype: float64\n",
      "0.5922330097087378  k =  50\n",
      "****f1_score****\n",
      "target\n",
      "A    0.055556\n",
      "N    0.815217\n",
      "O    0.233161\n",
      "~    0.000000\n",
      "Name: indicator, dtype: float64\n",
      "0.5153748105200266  k =  5\n",
      "****accuracy****\n",
      "target\n",
      "A    0.000000\n",
      "N    0.986413\n",
      "O    0.031088\n",
      "~    0.000000\n",
      "Name: indicator, dtype: float64\n",
      "0.5970873786407767  k =  40\n",
      "****f1_score****\n",
      "target\n",
      "A    0.055556\n",
      "N    0.815217\n",
      "O    0.253886\n",
      "~    0.000000\n",
      "Name: indicator, dtype: float64\n",
      "0.5235360791104943  k =  5\n",
      "****accuracy****\n",
      "target\n",
      "A    0.000000\n",
      "N    0.989130\n",
      "O    0.020725\n",
      "~    0.000000\n",
      "Name: indicator, dtype: float64\n",
      "0.5954692556634305  k =  44\n",
      "****f1_score****\n",
      "target\n",
      "A    0.055556\n",
      "N    0.845109\n",
      "O    0.227979\n",
      "~    0.000000\n",
      "Name: indicator, dtype: float64\n",
      "0.5246786622223808  k =  6\n",
      "****accuracy****\n",
      "target\n",
      "A    0.000000\n",
      "N    0.910326\n",
      "O    0.139896\n",
      "~    0.000000\n",
      "Name: indicator, dtype: float64\n",
      "0.5857605177993528  k =  11\n",
      "****f1_score****\n",
      "target\n",
      "A    0.018519\n",
      "N    0.866848\n",
      "O    0.160622\n",
      "~    0.000000\n",
      "Name: indicator, dtype: float64\n",
      "0.4949480791947789  k =  9\n"
     ]
    }
   ],
   "source": [
    "best_alpha, final_f, alpha_values, f_tests = get_best_alpha_and_plot(df_train, df_val, df_test, name_val, name_test)"
   ]
  },
  {
   "cell_type": "code",
   "execution_count": 118,
   "metadata": {},
   "outputs": [
    {
     "name": "stdout",
     "output_type": "stream",
     "text": [
      "0.07\n",
      "0.5235360791104943\n"
     ]
    }
   ],
   "source": [
    "print(best_alpha)\n",
    "print(final_f)"
   ]
  },
  {
   "cell_type": "code",
   "execution_count": 119,
   "metadata": {},
   "outputs": [
    {
     "data": {
      "image/png": "[encoded data removed]",
      "text/plain": [
       "<Figure size 432x288 with 1 Axes>"
      ]
     },
     "metadata": {
      "needs_background": "light"
     },
     "output_type": "display_data"
    }
   ],
   "source": [
    "plt.plot(alpha_values, f_tests, color=\"black\")\n",
    "plt.savefig('ResultImages/alive_7_levels_alpha.png')"
   ]
  },
  {
   "cell_type": "code",
   "execution_count": 120,
   "metadata": {},
   "outputs": [],
   "source": [
    "test_distances_emd = pd.read_csv(\"DistanceData/\" + name_test+\"_\" + str(0.07) +  \"_dist.csv\", index_col=False).drop(\"Unnamed: 0\", axis=1)\n",
    "val_distances_emd = pd.read_csv(\"DistanceData/\" + name_val+\"_\" + str(0.07) +  \"_dist.csv\", index_col=False).drop(\"Unnamed: 0\", axis=1)"
   ]
  },
  {
   "cell_type": "markdown",
   "metadata": {},
   "source": [
    "## Оценить Фурье"
   ]
  },
  {
   "cell_type": "code",
   "execution_count": 87,
   "metadata": {},
   "outputs": [
    {
     "name": "stderr",
     "output_type": "stream",
     "text": [
      "100%|██████████| 618/618 [00:26<00:00, 22.97it/s]\n",
      "100%|██████████| 630/630 [00:27<00:00, 23.19it/s]\n"
     ]
    }
   ],
   "source": [
    "def get_distance_matrix(train, test, distance):\n",
    "    dist_matrix = np.zeros((test.shape[0], train.shape[0]))\n",
    "    for i in tqdm(range(test.shape[0])):\n",
    "        for j in range(train.shape[0]):\n",
    "            dist_matrix[i,j] = distance(test[i] , train[j])\n",
    "    return dist_matrix\n",
    "\n",
    "\n",
    "distance_matrix_furie_test = get_distance_matrix(df_train[\"nwelch\"],  df_test['nwelch'], wasserstein_distance)\n",
    "distance_matrix_furie_val = get_distance_matrix(df_train[\"nwelch\"],  df_val['nwelch'], wasserstein_distance)"
   ]
  },
  {
   "cell_type": "code",
   "execution_count": 92,
   "metadata": {},
   "outputs": [
    {
     "name": "stdout",
     "output_type": "stream",
     "text": [
      "****accuracy****\n",
      "target\n",
      "A    0.000000\n",
      "N    0.945652\n",
      "O    0.072539\n",
      "~    0.000000\n",
      "Name: indicator, dtype: float64\n",
      "0.5857605177993528  k =  46\n",
      "****f1_score****\n",
      "target\n",
      "A    0.037037\n",
      "N    0.864130\n",
      "O    0.124352\n",
      "~    0.000000\n",
      "Name: indicator, dtype: float64\n",
      "0.4843480896854334  k =  18\n"
     ]
    }
   ],
   "source": [
    "evaluate(50, df_train, df_test, df_val, distance_matrix_furie_test, distance_matrix_furie_val, weights=\"distance\", return_vals=False)"
   ]
  },
  {
   "cell_type": "code",
   "execution_count": 148,
   "metadata": {},
   "outputs": [
    {
     "name": "stdout",
     "output_type": "stream",
     "text": [
      "O\n"
     ]
    },
    {
     "data": {
      "image/png": "[encoded data removed]",
      "text/plain": [
       "<Figure size 432x288 with 1 Axes>"
      ]
     },
     "metadata": {
      "needs_background": "light"
     },
     "output_type": "display_data"
    }
   ],
   "source": [
    "ind_test = 3\n",
    "s_b = 0\n",
    "s_len = 1800\n",
    "distances = test_distances_emd.values\n",
    "ind_train_emd = np.argmin(distances[ind_test])\n",
    "ind_train_furie = np.argmin(distance_matrix_furie_test[ind_test])\n",
    "plt.plot(range(s_b, s_len), df_test[\"ECG_F\"][ind_test][s_b:s_len], color=\"black\")\n",
    "plt.savefig('ResultImages/alive_3_orig.png')\n",
    "print(df_test.target.values[ind_test])"
   ]
  },
  {
   "cell_type": "code",
   "execution_count": 149,
   "metadata": {},
   "outputs": [
    {
     "name": "stdout",
     "output_type": "stream",
     "text": [
      "N\n"
     ]
    },
    {
     "data": {
      "image/png": "[encoded data removed]",
      "text/plain": [
       "<Figure size 432x288 with 1 Axes>"
      ]
     },
     "metadata": {
      "needs_background": "light"
     },
     "output_type": "display_data"
    }
   ],
   "source": [
    "plt.plot(range(s_b, s_len), df_train[\"ECG_F\"][ind_train_emd][s_b:s_len], color=\"black\")\n",
    "plt.savefig('ResultImages/alive_3_emd.png')\n",
    "print(df_train.target.values[ind_train_emd])"
   ]
  },
  {
   "cell_type": "code",
   "execution_count": 150,
   "metadata": {},
   "outputs": [
    {
     "name": "stdout",
     "output_type": "stream",
     "text": [
      "A\n"
     ]
    },
    {
     "data": {
      "image/png": "[encoded data removed]",
      "text/plain": [
       "<Figure size 432x288 with 1 Axes>"
      ]
     },
     "metadata": {
      "needs_background": "light"
     },
     "output_type": "display_data"
    }
   ],
   "source": [
    "plt.plot(range(s_b, s_len), df_train[\"ECG_F\"][ind_train_furie][s_b:s_len], color=\"black\")\n",
    "plt.savefig('ResultImages/alive_3_furie.png')\n",
    "print(df_train.target.values[ind_train_furie])"
   ]
  },
  {
   "cell_type": "code",
   "execution_count": 163,
   "metadata": {},
   "outputs": [
    {
     "name": "stdout",
     "output_type": "stream",
     "text": [
      "O\n"
     ]
    },
    {
     "data": {
      "image/png": "[encoded data removed]",
      "text/plain": [
       "<Figure size 432x288 with 1 Axes>"
      ]
     },
     "metadata": {
      "needs_background": "light"
     },
     "output_type": "display_data"
    }
   ],
   "source": [
    "ind_test = 88\n",
    "s_b = 0\n",
    "s_len = 1800\n",
    "distances = test_distances_emd.values\n",
    "ind_train_emd = np.argmin(distances[ind_test])\n",
    "ind_train_furie = np.argmin(distance_matrix_furie_test[ind_test])\n",
    "plt.plot(range(s_b, s_len), df_test[\"ECG_F\"][ind_test][s_b:s_len], color=\"black\")\n",
    "plt.savefig('ResultImages/alive_88_orig.png')\n",
    "print(df_test.target.values[ind_test])"
   ]
  },
  {
   "cell_type": "code",
   "execution_count": 164,
   "metadata": {},
   "outputs": [
    {
     "name": "stdout",
     "output_type": "stream",
     "text": [
      "O\n"
     ]
    },
    {
     "data": {
      "image/png": "[encoded data removed]",
      "text/plain": [
       "<Figure size 432x288 with 1 Axes>"
      ]
     },
     "metadata": {
      "needs_background": "light"
     },
     "output_type": "display_data"
    }
   ],
   "source": [
    "plt.plot(range(s_b, s_len), df_train[\"ECG_F\"][ind_train_emd][s_b:s_len], color=\"black\")\n",
    "plt.savefig('ResultImages/alive_88_emd.png')\n",
    "print(df_train.target.values[ind_train_emd])"
   ]
  },
  {
   "cell_type": "code",
   "execution_count": 165,
   "metadata": {},
   "outputs": [
    {
     "name": "stdout",
     "output_type": "stream",
     "text": [
      "N\n"
     ]
    },
    {
     "data": {
      "image/png": "[encoded data removed]",
      "text/plain": [
       "<Figure size 432x288 with 1 Axes>"
      ]
     },
     "metadata": {
      "needs_background": "light"
     },
     "output_type": "display_data"
    }
   ],
   "source": [
    "plt.plot(range(s_b, s_len), df_train[\"ECG_F\"][ind_train_furie][s_b:s_len], color=\"black\")\n",
    "plt.savefig('ResultImages/alive_88_furie.png')\n",
    "print(df_train.target.values[ind_train_furie])"
   ]
  },
  {
   "cell_type": "code",
   "execution_count": 175,
   "metadata": {},
   "outputs": [
    {
     "name": "stdout",
     "output_type": "stream",
     "text": [
      "O\n"
     ]
    },
    {
     "data": {
      "image/png": "[encoded data removed]",
      "text/plain": [
       "<Figure size 432x288 with 1 Axes>"
      ]
     },
     "metadata": {
      "needs_background": "light"
     },
     "output_type": "display_data"
    }
   ],
   "source": [
    "ind_test = 120\n",
    "s_b = 0\n",
    "s_len = 1800\n",
    "distances = test_distances_emd.values\n",
    "ind_train_emd = np.argmax(distances[ind_test])\n",
    "ind_train_furie = np.argmax(distance_matrix_furie_test[ind_test])\n",
    "plt.plot(range(s_b, s_len), df_test[\"ECG_F\"][ind_test][s_b:s_len], color=\"black\")\n",
    "#plt.savefig('ResultImages/alive_88_orig.png')\n",
    "print(df_test.target.values[ind_test])"
   ]
  },
  {
   "cell_type": "code",
   "execution_count": 176,
   "metadata": {},
   "outputs": [
    {
     "name": "stdout",
     "output_type": "stream",
     "text": [
      "A\n"
     ]
    },
    {
     "data": {
      "image/png": "[encoded data removed]",
      "text/plain": [
       "<Figure size 432x288 with 1 Axes>"
      ]
     },
     "metadata": {
      "needs_background": "light"
     },
     "output_type": "display_data"
    }
   ],
   "source": [
    "plt.plot(range(s_b, s_len), df_train[\"ECG_F\"][ind_train_emd][s_b:s_len], color=\"black\")\n",
    "#plt.savefig('ResultImages/alive_88_emd.png')\n",
    "print(df_train.target.values[ind_train_emd])"
   ]
  },
  {
   "cell_type": "code",
   "execution_count": 177,
   "metadata": {},
   "outputs": [
    {
     "name": "stdout",
     "output_type": "stream",
     "text": [
      "O\n"
     ]
    },
    {
     "data": {
      "image/png": "[encoded data removed]",
      "text/plain": [
       "<Figure size 432x288 with 1 Axes>"
      ]
     },
     "metadata": {
      "needs_background": "light"
     },
     "output_type": "display_data"
    }
   ],
   "source": [
    "plt.plot(range(s_b, s_len), df_train[\"ECG_F\"][ind_train_furie][s_b:s_len], color=\"black\")\n",
    "#plt.savefig('ResultImages/alive_88_furie.png')\n",
    "print(df_train.target.values[ind_train_furie])"
   ]
  },
  {
   "cell_type": "code",
   "execution_count": 170,
   "metadata": {},
   "outputs": [
    {
     "data": {
      "text/plain": [
       "[1.2329706074106102,\n",
       " 2.0397848855842398,\n",
       " 2.16060254875039,\n",
       " 2.16221164872728,\n",
       " 2.19215947847892,\n",
       " 2.26313043126531,\n",
       " 2.3086644939866803,\n",
       " 2.37743946355243,\n",
       " 2.46496668281734,\n",
       " 2.47192463857367,\n",
       " 2.51164158690914,\n",
       " 2.513607612981,\n",
       " 2.5980680837865298,\n",
       " 2.66089629501527,\n",
       " 2.6883965936162104,\n",
       " 2.7119751839199,\n",
       " 2.75553948827625,\n",
       " 2.75704981982072,\n",
       " 2.7775150220478304,\n",
       " 2.7914378420766495,\n",
       " 2.79339631459726,\n",
       " 2.80921853133633,\n",
       " 2.8163202178365805,\n",
       " 2.8180248162361403,\n",
       " 2.82343327562568,\n",
       " 2.82493406871884,\n",
       " 2.8413724953713198,\n",
       " 2.85239366011043,\n",
       " 2.85443243675431,\n",
       " 2.85588866762338,\n",
       " 2.8571701572969,\n",
       " 2.8637583758444904,\n",
       " 2.86643509921465,\n",
       " 2.87462087905279,\n",
       " 2.87648348883165,\n",
       " 2.8830652553809903,\n",
       " 2.8904730020381404,\n",
       " 2.8948197679391403,\n",
       " 2.89644803743783,\n",
       " 2.90281313214128,\n",
       " 2.9163986190891302,\n",
       " 2.92287146626534,\n",
       " 2.92978599390567,\n",
       " 2.93118361354401,\n",
       " 2.93699553838372,\n",
       " 2.9390357280115302,\n",
       " 2.94135576415088,\n",
       " 2.9448442633414103,\n",
       " 2.95351795855,\n",
       " 2.9563024586521696,\n",
       " 2.96077936977782,\n",
       " 2.9673282878232796,\n",
       " 2.96746912792901,\n",
       " 2.9725437190683697,\n",
       " 2.97559837154853,\n",
       " 2.9775253200939797,\n",
       " 2.98335584271944,\n",
       " 2.98473050412943,\n",
       " 2.9850575186631,\n",
       " 2.99204686001941,\n",
       " 2.99509259086496,\n",
       " 3.0041208873003797,\n",
       " 3.00654842091122,\n",
       " 3.0167094082647403,\n",
       " 3.01695793295152,\n",
       " 3.0173830302349702,\n",
       " 3.01915523162061,\n",
       " 3.02093943619958,\n",
       " 3.0225013674919903,\n",
       " 3.02661510331518,\n",
       " 3.0279044738503997,\n",
       " 3.02830594615179,\n",
       " 3.0296644271233797,\n",
       " 3.03362499143708,\n",
       " 3.03424861064612,\n",
       " 3.03701999679474,\n",
       " 3.03863436870803,\n",
       " 3.03952803161508,\n",
       " 3.04279643850835,\n",
       " 3.05973820472198,\n",
       " 3.0717154712144303,\n",
       " 3.07544668240461,\n",
       " 3.07654458696307,\n",
       " 3.0822585378916205,\n",
       " 3.0864918419009704,\n",
       " 3.08747607403462,\n",
       " 3.0887626632899905,\n",
       " 3.09459427559793,\n",
       " 3.10447391811329,\n",
       " 3.11044852093575,\n",
       " 3.1166928298711003,\n",
       " 3.12065305585037,\n",
       " 3.12192966452896,\n",
       " 3.1222629856307598,\n",
       " 3.1229632366301296,\n",
       " 3.1243101313226096,\n",
       " 3.12517118239767,\n",
       " 3.1295835142735298,\n",
       " 3.13085944133298,\n",
       " 3.13815298169824,\n",
       " 3.13871101570064,\n",
       " 3.1465587334337206,\n",
       " 3.15294225936659,\n",
       " 3.15688239975528,\n",
       " 3.1636828234476604,\n",
       " 3.16891203763959,\n",
       " 3.18121801037433,\n",
       " 3.18170117141734,\n",
       " 3.1817033858829804,\n",
       " 3.1822547016816003,\n",
       " 3.18739173755489,\n",
       " 3.1877787379919305,\n",
       " 3.1878112430831402,\n",
       " 3.18841344618543,\n",
       " 3.19018764664786,\n",
       " 3.1928979540466402,\n",
       " 3.1929835708712595,\n",
       " 3.1936664315367502,\n",
       " 3.1939443347902405,\n",
       " 3.20324479740571,\n",
       " 3.2037459915162096,\n",
       " 3.20668678781107,\n",
       " 3.2083051585853704,\n",
       " 3.21862346998999,\n",
       " 3.21954007577923,\n",
       " 3.22114466245538,\n",
       " 3.22203858459073,\n",
       " 3.2246521043997003,\n",
       " 3.22810223477916,\n",
       " 3.2283651128703497,\n",
       " 3.2291623848785402,\n",
       " 3.23075261337206,\n",
       " 3.2324592364064904,\n",
       " 3.2414106709557795,\n",
       " 3.2431220628037103,\n",
       " 3.2519628171302997,\n",
       " 3.2575840545508,\n",
       " 3.2616471530488598,\n",
       " 3.26987685718817,\n",
       " 3.2699304688886,\n",
       " 3.2753861113794303,\n",
       " 3.27566886366791,\n",
       " 3.27612385781511,\n",
       " 3.2771569225797896,\n",
       " 3.28231833366713,\n",
       " 3.2824982800378995,\n",
       " 3.28992957723921,\n",
       " 3.2913088458797,\n",
       " 3.29455313744743,\n",
       " 3.29802123707469,\n",
       " 3.30170394526694,\n",
       " 3.31176163490142,\n",
       " 3.31358246652615,\n",
       " 3.31826193944255,\n",
       " 3.31901657486898,\n",
       " 3.31980042938893,\n",
       " 3.3204688576198103,\n",
       " 3.3222282637169998,\n",
       " 3.3234403706429303,\n",
       " 3.32541548753465,\n",
       " 3.3261123607538394,\n",
       " 3.32658370996227,\n",
       " 3.33036932025405,\n",
       " 3.3317718807529504,\n",
       " 3.3360754272986095,\n",
       " 3.33936127371617,\n",
       " 3.35020647303263,\n",
       " 3.3528008279558397,\n",
       " 3.35333012152956,\n",
       " 3.35619079561526,\n",
       " 3.3623660020034998,\n",
       " 3.36248506663737,\n",
       " 3.3695863946553097,\n",
       " 3.3697239656000098,\n",
       " 3.37279267011388,\n",
       " 3.37432596162027,\n",
       " 3.3747322844321297,\n",
       " 3.37607470541844,\n",
       " 3.3788284765880094,\n",
       " 3.3819307558135003,\n",
       " 3.3821989490665603,\n",
       " 3.38434676677376,\n",
       " 3.38438475429609,\n",
       " 3.39878169172204,\n",
       " 3.39967665056193,\n",
       " 3.40027254139239,\n",
       " 3.40092331813018,\n",
       " 3.4018403111673905,\n",
       " 3.40811992914298,\n",
       " 3.41206476620381,\n",
       " 3.42018779128244,\n",
       " 3.4289078502297,\n",
       " 3.4320008062325096,\n",
       " 3.4339796175649,\n",
       " 3.4356208857065997,\n",
       " 3.44263941104558,\n",
       " 3.4427261461298198,\n",
       " 3.44597373323717,\n",
       " 3.44900143119806,\n",
       " 3.45086250921,\n",
       " 3.45259164418465,\n",
       " 3.4545383824874105,\n",
       " 3.45721123133749,\n",
       " 3.45856799226372,\n",
       " 3.4658227227842904,\n",
       " 3.4676481926662404,\n",
       " 3.47795601725972,\n",
       " 3.47983057021851,\n",
       " 3.48462112945427,\n",
       " 3.48700433185515,\n",
       " 3.4877348296693502,\n",
       " 3.49106245831421,\n",
       " 3.49424025632206,\n",
       " 3.50288078894637,\n",
       " 3.50683043041901,\n",
       " 3.50695865555145,\n",
       " 3.50731539145836,\n",
       " 3.51120726450144,\n",
       " 3.51457356599207,\n",
       " 3.51590087379143,\n",
       " 3.51811553260516,\n",
       " 3.5210156925242995,\n",
       " 3.52315403619492,\n",
       " 3.52518744538802,\n",
       " 3.52520046574568,\n",
       " 3.53293913692546,\n",
       " 3.53370114472399,\n",
       " 3.55097854317074,\n",
       " 3.55306156212762,\n",
       " 3.5535793937802795,\n",
       " 3.55914641921064,\n",
       " 3.56147859346341,\n",
       " 3.56467785782184,\n",
       " 3.5655534617582,\n",
       " 3.56813040806408,\n",
       " 3.56891593118564,\n",
       " 3.57771163677431,\n",
       " 3.5836138487333304,\n",
       " 3.58366145083167,\n",
       " 3.58428568335107,\n",
       " 3.5843589524017996,\n",
       " 3.58988793697231,\n",
       " 3.59117784358163,\n",
       " 3.5925555885478104,\n",
       " 3.5974420908338396,\n",
       " 3.6054488903316497,\n",
       " 3.60877044455068,\n",
       " 3.60895573587789,\n",
       " 3.6113484562321605,\n",
       " 3.61274088719098,\n",
       " 3.6197473435077,\n",
       " 3.62277323342813,\n",
       " 3.62888446670974,\n",
       " 3.6301052639362204,\n",
       " 3.63207416013511,\n",
       " 3.6350809020604102,\n",
       " 3.6409387282905494,\n",
       " 3.64809873249323,\n",
       " 3.6493637327716897,\n",
       " 3.65120520290008,\n",
       " 3.6520940102419197,\n",
       " 3.65660807251127,\n",
       " 3.6597081324767298,\n",
       " 3.6657464081402003,\n",
       " 3.67050877656695,\n",
       " 3.6878661678102302,\n",
       " 3.7060940804739797,\n",
       " 3.71286227112032,\n",
       " 3.7146597358979703,\n",
       " 3.7162766935711606,\n",
       " 3.7168726274828,\n",
       " 3.7193392830318497,\n",
       " 3.7211616396786,\n",
       " 3.7235095174175,\n",
       " 3.7251186611998497,\n",
       " 3.72793572340833,\n",
       " 3.74378200464661,\n",
       " 3.74852903299725,\n",
       " 3.74951473549909,\n",
       " 3.75065891699916,\n",
       " 3.7564645292180496,\n",
       " 3.7579354107776295,\n",
       " 3.7663326539988,\n",
       " 3.77152542677005,\n",
       " 3.77566045137474,\n",
       " 3.7856607991577502,\n",
       " 3.7891580554212405,\n",
       " 3.79036729259502,\n",
       " 3.7952770776470093,\n",
       " 3.79908362683069,\n",
       " 3.80872111885557,\n",
       " 3.80967807653293,\n",
       " 3.80979802867038,\n",
       " 3.8136231298278798,\n",
       " 3.81522220790434,\n",
       " 3.8211406736257403,\n",
       " 3.82342383313186,\n",
       " 3.82401320719638,\n",
       " 3.8260091436420094,\n",
       " 3.82730382295094,\n",
       " 3.8385839628227596,\n",
       " 3.84179879050282,\n",
       " 3.86155213323132,\n",
       " 3.86375452965016,\n",
       " 3.8639038438818596,\n",
       " 3.87314064250041,\n",
       " 3.8745080330218102,\n",
       " 3.8747597643313396,\n",
       " 3.87936312507467,\n",
       " 3.88497184630648,\n",
       " 3.88794171681035,\n",
       " 3.88947921558236,\n",
       " 3.8931324329985295,\n",
       " 3.8935349756701703,\n",
       " 3.8943554437050496,\n",
       " 3.89862162566458,\n",
       " 3.9014032152415603,\n",
       " 3.9081747962547,\n",
       " 3.92329773433607,\n",
       " 3.92687666439761,\n",
       " 3.9271714250213794,\n",
       " 3.92963996676848,\n",
       " 3.9315699582282697,\n",
       " 3.9316255839466,\n",
       " 3.9368570060549803,\n",
       " 3.9449077935814603,\n",
       " 3.94566662439994,\n",
       " 3.9556210199084596,\n",
       " 3.9619116065882003,\n",
       " 3.96264419969113,\n",
       " 3.9749377259361,\n",
       " 3.97905065602979,\n",
       " 3.98646725906177,\n",
       " 3.9959240529058797,\n",
       " 3.9960405717383303,\n",
       " 3.99638353014674,\n",
       " 3.99666047495543,\n",
       " 4.005325489445,\n",
       " 4.00580720597099,\n",
       " 4.00712183261064,\n",
       " 4.0150644177945605,\n",
       " 4.02579297249007,\n",
       " 4.02808432950643,\n",
       " 4.0284614057349994,\n",
       " 4.039883907445169,\n",
       " 4.0399480901332305,\n",
       " 4.0461657931353505,\n",
       " 4.05265879541548,\n",
       " 4.05269510610643,\n",
       " 4.06670828103652,\n",
       " 4.07726378195209,\n",
       " 4.07984965242401,\n",
       " 4.08208395096979,\n",
       " 4.0824100283127995,\n",
       " 4.0831909213327195,\n",
       " 4.09153849612232,\n",
       " 4.0984516374263,\n",
       " 4.10455263374235,\n",
       " 4.11347389019771,\n",
       " 4.13548182833344,\n",
       " 4.13799871855224,\n",
       " 4.1400979234610595,\n",
       " 4.14480433371717,\n",
       " 4.147173248019991,\n",
       " 4.15368476383217,\n",
       " 4.16418974955577,\n",
       " 4.17250971843054,\n",
       " 4.17726993935396,\n",
       " 4.20215353144649,\n",
       " 4.2025513327795,\n",
       " 4.203406417400161,\n",
       " 4.20813363738883,\n",
       " 4.2091806877468105,\n",
       " 4.20980433707618,\n",
       " 4.21064072003593,\n",
       " 4.21162833673444,\n",
       " 4.21974066156518,\n",
       " 4.22098684515074,\n",
       " 4.22737516198147,\n",
       " 4.22962392285532,\n",
       " 4.2318997876046405,\n",
       " 4.23628132049591,\n",
       " 4.23716412191763,\n",
       " 4.23995163062023,\n",
       " 4.24521295110584,\n",
       " 4.2547769007000396,\n",
       " 4.26680058511384,\n",
       " 4.26842027695324,\n",
       " 4.28262751842878,\n",
       " 4.28872632664673,\n",
       " 4.2917048539,\n",
       " 4.30023070788202,\n",
       " 4.30049784002947,\n",
       " 4.30348400522587,\n",
       " 4.30444061355587,\n",
       " 4.30881459402216,\n",
       " 4.31631127346969,\n",
       " 4.31827436474233,\n",
       " 4.32172348040293,\n",
       " 4.32538975087944,\n",
       " 4.3271842423064,\n",
       " 4.3364360321992494,\n",
       " 4.33858867211813,\n",
       " 4.344661838724879,\n",
       " 4.34928844248119,\n",
       " 4.349577490411759,\n",
       " 4.35158083703541,\n",
       " 4.35264593003497,\n",
       " 4.35965406965058,\n",
       " 4.36949486055582,\n",
       " 4.37034672865177,\n",
       " 4.3886776519809,\n",
       " 4.39040339261566,\n",
       " 4.3913435397136595,\n",
       " 4.39329549946678,\n",
       " 4.39496820420976,\n",
       " 4.40347268138276,\n",
       " 4.416864260817429,\n",
       " 4.41915495043808,\n",
       " 4.42315557004403,\n",
       " 4.42509150620103,\n",
       " 4.42715951306415,\n",
       " 4.434520390692991,\n",
       " 4.4469297673316905,\n",
       " 4.45215599426342,\n",
       " 4.45456841029488,\n",
       " 4.455157126104201,\n",
       " 4.458622841944281,\n",
       " 4.47124922689279,\n",
       " 4.475070383545241,\n",
       " 4.52043956119119,\n",
       " 4.53901319636641,\n",
       " 4.54073592119952,\n",
       " 4.54903565324135,\n",
       " 4.55852270276958,\n",
       " 4.55932566531447,\n",
       " 4.563701195399269,\n",
       " 4.575487993974559,\n",
       " 4.59314276669109,\n",
       " 4.597380550836469,\n",
       " 4.59793673694823,\n",
       " 4.62227193284792,\n",
       " 4.623385461951201,\n",
       " 4.63951442803558,\n",
       " 4.65007773627342,\n",
       " 4.6706837613334296,\n",
       " 4.67252471858251,\n",
       " 4.69406819693899,\n",
       " 4.70935688757275,\n",
       " 4.71137427084719,\n",
       " 4.71326434760341,\n",
       " 4.72117454650557,\n",
       " 4.726884260890991,\n",
       " 4.73183638939224,\n",
       " 4.755019477590509,\n",
       " 4.76314895582529,\n",
       " 4.7663026632118495,\n",
       " 4.76802098275279,\n",
       " 4.781797603083191,\n",
       " 4.786521949517481,\n",
       " 4.79483825934488,\n",
       " 4.82318311623721,\n",
       " 4.82720387253575,\n",
       " 4.83466549630286,\n",
       " 4.83752504052911,\n",
       " 4.86971439316508,\n",
       " 4.87130820075469,\n",
       " 4.877334687587781,\n",
       " 4.87971904410838,\n",
       " 4.89040328675149,\n",
       " 4.8961391631112905,\n",
       " 4.898033640245849,\n",
       " 4.91480750748246,\n",
       " 4.93340287813215,\n",
       " 4.9440761241705795,\n",
       " 4.950917754015509,\n",
       " 4.952015298060269,\n",
       " 4.9648253077004005,\n",
       " 4.96566822513756,\n",
       " 4.974975942097481,\n",
       " 5.0058240027407805,\n",
       " 5.009134328410281,\n",
       " 5.03183431620751,\n",
       " 5.08801772590522,\n",
       " 5.0909424183899805,\n",
       " 5.113345779009951,\n",
       " 5.11883893989312,\n",
       " 5.12154660244882,\n",
       " 5.12235383497845,\n",
       " 5.12719890179838,\n",
       " 5.1768797022709006,\n",
       " 5.18617707471505,\n",
       " 5.18675549351795,\n",
       " 5.20140659960533,\n",
       " 5.24514428993271,\n",
       " 5.26413820853886,\n",
       " 5.2759454446196505,\n",
       " 5.298353336266669,\n",
       " 5.32252199624644,\n",
       " 5.35107772630672,\n",
       " 5.3664515837958895,\n",
       " 5.369966182919941,\n",
       " 5.376827190088299,\n",
       " 5.38266662966169,\n",
       " 5.38391752733545,\n",
       " 5.39130807762651,\n",
       " 5.4171953293869,\n",
       " 5.45285130106236,\n",
       " 5.4542037414029005,\n",
       " 5.4560642731470095,\n",
       " 5.490077622276651,\n",
       " 5.4935551065926695,\n",
       " 5.504173949140821,\n",
       " 5.515558719291019,\n",
       " 5.5215736789140495,\n",
       " 5.5297511435969104,\n",
       " 5.54071038602368,\n",
       " 5.560925435095379,\n",
       " 5.561406307295621,\n",
       " 5.61094309768397,\n",
       " 5.634694157758791,\n",
       " 5.6367087379992595,\n",
       " 5.64953968023883,\n",
       " 5.6658297649871505,\n",
       " 5.6778696175488,\n",
       " 5.693532034329929,\n",
       " 5.69676098975221,\n",
       " 5.7029690888504305,\n",
       " 5.70774351661734,\n",
       " 5.72621356119877,\n",
       " 5.75894330667619,\n",
       " 5.76327195450107,\n",
       " 5.772596377145129,\n",
       " 5.773791581662481,\n",
       " 5.80144198208735,\n",
       " 5.83126452037802,\n",
       " 5.84196459381963,\n",
       " 5.859333320041079,\n",
       " 5.87833734436015,\n",
       " 5.892394012556349,\n",
       " 5.91234823209761,\n",
       " 5.953995189659031,\n",
       " 5.96498938472648,\n",
       " 5.993339077963459,\n",
       " 5.996571166306519,\n",
       " 6.005154444755339,\n",
       " 6.011551528500349,\n",
       " 6.03863847081429,\n",
       " 6.05566844156552,\n",
       " 6.07969843170031,\n",
       " 6.08499025418352,\n",
       " 6.161992433801099,\n",
       " 6.1882738044669106,\n",
       " 6.20582306071957,\n",
       " 6.20848703163203,\n",
       " 6.21234785459411,\n",
       " 6.223506236090291,\n",
       " 6.223693998734269,\n",
       " 6.230462667094019,\n",
       " 6.24119885723058,\n",
       " 6.24384915670253,\n",
       " 6.324617234839081,\n",
       " 6.38242366784958,\n",
       " 6.462353114596231,\n",
       " 6.4682855855805395,\n",
       " 6.48610342115109,\n",
       " 6.49568832647996,\n",
       " 6.50110762841205,\n",
       " 6.503897715409441,\n",
       " 6.536110031665901,\n",
       " 6.55565016523165,\n",
       " 6.56256376728045,\n",
       " 6.56640482425999,\n",
       " 6.6288183807422,\n",
       " 6.670852642694629,\n",
       " 6.717715025076161,\n",
       " 6.78560853933658,\n",
       " 6.79623743583414,\n",
       " 6.81428501060684,\n",
       " 6.8156140684107696,\n",
       " 6.86849755030308,\n",
       " 6.91561390698446,\n",
       " 6.97553185736598,\n",
       " 6.99321228378237,\n",
       " 7.013567581363901,\n",
       " 7.01707187299492,\n",
       " 7.05592827417801,\n",
       " 7.067516506476769,\n",
       " 7.0829777170796,\n",
       " 7.11078281773003,\n",
       " 7.14677733263437,\n",
       " 7.17178737793311,\n",
       " 7.18565746755338,\n",
       " 7.21720389733271,\n",
       " 7.265541305710219,\n",
       " 7.26915366919446,\n",
       " 7.346208356085111,\n",
       " 7.35366388805586,\n",
       " 7.3806517994821,\n",
       " 7.4059780708244505,\n",
       " 7.4517140514541,\n",
       " 7.46111982044747,\n",
       " 7.4618788530824505,\n",
       " 7.47002491689243,\n",
       " 7.5121762337775495,\n",
       " 7.530564122799809,\n",
       " 7.575375935429809,\n",
       " 7.68012561012501,\n",
       " 7.69349797240438,\n",
       " 7.697050796292849,\n",
       " 7.702542265884629,\n",
       " 7.71853673806946,\n",
       " 7.744454728762451,\n",
       " 7.7851990465942595,\n",
       " 7.799638988990389,\n",
       " 7.8355246288943805,\n",
       " 7.87913397500865,\n",
       " 7.89781801183432,\n",
       " 7.90018891889981,\n",
       " 7.918235380966441,\n",
       " 7.969078820970299,\n",
       " 7.99038776644872,\n",
       " 8.055389125123629,\n",
       " 8.063616368794639,\n",
       " 8.07171304070202,\n",
       " 8.13286606411996,\n",
       " 8.280346226955281,\n",
       " 8.28895571220461,\n",
       " 8.30093982944631,\n",
       " 8.4009568238134,\n",
       " 8.40208759148404,\n",
       " 8.42940072917717,\n",
       " 8.43139482206251,\n",
       " 8.43567681155595,\n",
       " 8.64884531076632,\n",
       " 8.6538152473293,\n",
       " 8.68258782185735,\n",
       " 8.693202380024509,\n",
       " 8.78341019078842,\n",
       " 8.85521434373909,\n",
       " 8.89015977055754,\n",
       " 8.89277701340165,\n",
       " 8.98183738617748,\n",
       " 9.01704987780376,\n",
       " 9.055690962412529,\n",
       " 9.068991589682321,\n",
       " 9.1026863865918,\n",
       " 9.13456240788598,\n",
       " 9.176220465234211,\n",
       " 9.22184449419428,\n",
       " 9.23660943785695,\n",
       " 9.25013501153883,\n",
       " 9.26783292531868,\n",
       " 9.31279804918322,\n",
       " 9.426483974435099,\n",
       " 9.435965856022051,\n",
       " 9.44226111118417,\n",
       " 9.74546065467769,\n",
       " 9.752776541079632,\n",
       " 9.760824811770311,\n",
       " 9.78370353944455,\n",
       " 9.80909309794692,\n",
       " 9.837968322467,\n",
       " 9.884161073460051,\n",
       " 9.89120022382014,\n",
       " 9.93265736508868,\n",
       " 10.1015107104043,\n",
       " 10.103465359290801,\n",
       " 10.104686976325,\n",
       " 10.150851807514801,\n",
       " 10.1972055356042,\n",
       " 10.2703689867008,\n",
       " 10.3416093346725,\n",
       " 10.4333731828834,\n",
       " 10.4342476031142,\n",
       " 10.5189605331772,\n",
       " 10.519685445990401,\n",
       " 10.625624526206801,\n",
       " 10.7197047218945,\n",
       " 10.7233948367447,\n",
       " 10.7429571180484,\n",
       " 10.763276803415101,\n",
       " 10.8230559976027,\n",
       " 10.828336799906301,\n",
       " 10.862173925941601,\n",
       " 11.026381768326,\n",
       " 11.0340902418331,\n",
       " 11.0733682337269,\n",
       " 11.1077670993818,\n",
       " 11.168662297806401,\n",
       " 11.170427899863201,\n",
       " 11.1759282064968,\n",
       " 11.217022800691499,\n",
       " 11.342777117698699,\n",
       " 11.396649936103499,\n",
       " 11.4027928819259,\n",
       " 11.4286980948906,\n",
       " 11.5511160086501,\n",
       " 11.5826341290975,\n",
       " 11.6425521842481,\n",
       " 11.7079421723919,\n",
       " 11.881034185397802,\n",
       " 11.9010284139535,\n",
       " 11.9911260589767,\n",
       " 12.046683689035499,\n",
       " 12.0681845262807,\n",
       " 12.5048197249334,\n",
       " 12.632623120780801,\n",
       " 12.714795423651099,\n",
       " 12.8228889520733,\n",
       " 12.8270194090621,\n",
       " 12.8532595540259,\n",
       " 12.8550872155681,\n",
       " 12.9916379973423,\n",
       " 13.0559154269941,\n",
       " 13.0971764468431,\n",
       " 13.1583068269972,\n",
       " 13.2363152864538,\n",
       " 13.354245743782402,\n",
       " 13.392793870016,\n",
       " 13.888387719257901,\n",
       " 13.8999534365659,\n",
       " 13.935160761093199,\n",
       " 14.2547995316992,\n",
       " 15.2677419933875,\n",
       " 15.8710006868452]"
      ]
     },
     "execution_count": 170,
     "metadata": {},
     "output_type": "execute_result"
    }
   ],
   "source": [
    "sorted(test_distances_emd.values[0])"
   ]
  },
  {
   "cell_type": "code",
   "execution_count": null,
   "metadata": {},
   "outputs": [],
   "source": []
  }
 ],
 "metadata": {
  "kernelspec": {
   "display_name": "Python 3",
   "language": "python",
   "name": "python3"
  },
  "language_info": {
   "codemirror_mode": {
    "name": "ipython",
    "version": 3
   },
   "file_extension": ".py",
   "mimetype": "text/x-python",
   "name": "python",
   "nbconvert_exporter": "python",
   "pygments_lexer": "ipython3",
   "version": "3.8.5"
  }
 },
 "nbformat": 4,
 "nbformat_minor": 4
}
