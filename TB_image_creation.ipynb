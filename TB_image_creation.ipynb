{
 "cells": [
  {
   "cell_type": "code",
   "execution_count": 22,
   "metadata": {},
   "outputs": [],
   "source": [
    "## Импорт бибилиотек"
   ]
  },
  {
   "cell_type": "code",
   "execution_count": 1,
   "metadata": {},
   "outputs": [
    {
     "name": "stderr",
     "output_type": "stream",
     "text": [
      "/home/a.gurianov/signals_venv/lib/python3.7/site-packages/tqdm/std.py:651: FutureWarning: The Panel class is removed from pandas. Accessing it from the top-level namespace will also be removed in the next version\n",
      "  from pandas import Panel\n"
     ]
    }
   ],
   "source": [
    "import torch\n",
    "import numpy as np\n",
    "import pandas as pd\n",
    "import sklearn\n",
    "import multiprocessing as mp\n",
    "from scipy.signal import spectrogram\n",
    "from biosppy.signals.ecg import hamilton_segmenter\n",
    "from biosppy.signals.ecg import correct_rpeaks\n",
    "import scipy\n",
    "from sklearn.datasets import make_regression\n",
    "from torch.utils.data import Dataset\n",
    "from tqdm import tqdm\n",
    "from torch.optim.lr_scheduler import MultiStepLR\n",
    "from torch.optim.lr_scheduler import StepLR\n",
    "from pytorch.model import CNN_LSTM_matrix_input\n",
    "from pytorch.model import SpectrogramNetwork, ResSpectrogramNetwork\n",
    "from torch.optim.lr_scheduler import MultiStepLR\n",
    "from torch.optim.lr_scheduler import StepLR\n",
    "from DataLoader import load_df, save_df\n",
    "from DataLoader import split_long_signals\n",
    "from itertools import repeat\n",
    "from pytorch.data import MyDataset\n",
    "from tqdm import tqdm_pandas\n",
    "from matplotlib import pyplot as plt\n",
    "import multiprocessing as mp"
   ]
  },
  {
   "cell_type": "code",
   "execution_count": 2,
   "metadata": {},
   "outputs": [],
   "source": [
    "%matplotlib inline"
   ]
  },
  {
   "cell_type": "code",
   "execution_count": 3,
   "metadata": {},
   "outputs": [],
   "source": [
    "%load_ext autoreload\n",
    "%autoreload 2"
   ]
  },
  {
   "cell_type": "code",
   "execution_count": 4,
   "metadata": {},
   "outputs": [],
   "source": [
    "## Описание датасета"
   ]
  },
  {
   "cell_type": "code",
   "execution_count": 5,
   "metadata": {},
   "outputs": [],
   "source": [
    "tb_info = pd.read_csv(\"tb_info_new.csv\", sep=\";\")\n",
    "tb_info.rename(columns={\"disease_info\": \"di\", \"patient_id\":\"p_id\"}, inplace=True)"
   ]
  },
  {
   "cell_type": "code",
   "execution_count": 6,
   "metadata": {},
   "outputs": [],
   "source": [
    "train = load_df(\"train_tb_r\")\n",
    "test = load_df(\"test_tb_r\")\n",
    "val = load_df(\"val_tb_r\")"
   ]
  },
  {
   "cell_type": "code",
   "execution_count": 7,
   "metadata": {},
   "outputs": [],
   "source": [
    "tb_info.rename(columns={\"disease_info\": \"di\", \"patient_id\":\"p_id\"}, inplace=True)"
   ]
  },
  {
   "cell_type": "code",
   "execution_count": 8,
   "metadata": {},
   "outputs": [],
   "source": [
    "train_new = train.merge(tb_info, how=\"inner\", on=\"cardiogram_id\")\n",
    "\n",
    "test_new = test.merge(tb_info, how=\"inner\", on=\"cardiogram_id\")\n",
    "\n",
    "val_new = val.merge(tb_info, how=\"inner\", on=\"cardiogram_id\")"
   ]
  },
  {
   "cell_type": "code",
   "execution_count": 9,
   "metadata": {},
   "outputs": [],
   "source": [
    "from pyecg import Signal\n",
    "from pyecg import ECGRecord"
   ]
  },
  {
   "cell_type": "code",
   "execution_count": 10,
   "metadata": {},
   "outputs": [],
   "source": [
    "from pyecg.annotations import ECGAnnotation\n"
   ]
  },
  {
   "cell_type": "code",
   "execution_count": 11,
   "metadata": {},
   "outputs": [
    {
     "data": {
      "text/plain": [
       "(2711, 19)"
      ]
     },
     "execution_count": 11,
     "metadata": {},
     "output_type": "execute_result"
    }
   ],
   "source": [
    "train_new.shape"
   ]
  },
  {
   "cell_type": "code",
   "execution_count": 12,
   "metadata": {},
   "outputs": [
    {
     "data": {
      "text/plain": [
       "(1053, 19)"
      ]
     },
     "execution_count": 12,
     "metadata": {},
     "output_type": "execute_result"
    }
   ],
   "source": [
    "test_new.shape"
   ]
  },
  {
   "cell_type": "code",
   "execution_count": 13,
   "metadata": {},
   "outputs": [
    {
     "data": {
      "text/plain": [
       "(1081, 19)"
      ]
     },
     "execution_count": 13,
     "metadata": {},
     "output_type": "execute_result"
    }
   ],
   "source": [
    "val_new.shape"
   ]
  },
  {
   "cell_type": "code",
   "execution_count": 43,
   "metadata": {},
   "outputs": [
    {
     "data": {
      "text/plain": [
       "False    5283\n",
       "True     1237\n",
       "Name: di, dtype: int64"
      ]
     },
     "execution_count": 43,
     "metadata": {},
     "output_type": "execute_result"
    }
   ],
   "source": [
    "tb_info.di.value_counts()"
   ]
  },
  {
   "cell_type": "code",
   "execution_count": 36,
   "metadata": {},
   "outputs": [
    {
     "data": {
      "text/plain": [
       "\u001b[0;31mInit signature:\u001b[0m \u001b[0mSignal\u001b[0m\u001b[0;34m(\u001b[0m\u001b[0msignal\u001b[0m\u001b[0;34m,\u001b[0m \u001b[0mlead_name\u001b[0m\u001b[0;34m)\u001b[0m\u001b[0;34m\u001b[0m\u001b[0;34m\u001b[0m\u001b[0m\n",
       "\u001b[0;31mDocstring:\u001b[0m      <no docstring>\n",
       "\u001b[0;31mFile:\u001b[0m           ~/signals_venv/lib/python3.7/site-packages/pyecg/sequence_data.py\n",
       "\u001b[0;31mType:\u001b[0m           type\n",
       "\u001b[0;31mSubclasses:\u001b[0m     \n"
      ]
     },
     "metadata": {},
     "output_type": "display_data"
    }
   ],
   "source": [
    "?Signal"
   ]
  },
  {
   "cell_type": "code",
   "execution_count": null,
   "metadata": {},
   "outputs": [],
   "source": [
    "train_new"
   ]
  },
  {
   "cell_type": "code",
   "execution_count": 20,
   "metadata": {},
   "outputs": [],
   "source": [
    "def p_score(p_ids, answ, out):\n",
    "    df = pd.DataFrame(data= {\"ID\": p_ids, \"A\": answ, \"OUT\": out})\n",
    "    df[\"c\"] = df[\"A\"] == df[\"OUT\"]\n",
    "    return df.groupby(\"ID\").c.mean().mean()"
   ]
  },
  {
   "cell_type": "code",
   "execution_count": 17,
   "metadata": {},
   "outputs": [
    {
     "data": {
      "text/plain": [
       "0.26838235294117646"
      ]
     },
     "execution_count": 17,
     "metadata": {},
     "output_type": "execute_result"
    }
   ],
   "source": [
    "73 / (199 + 73)"
   ]
  },
  {
   "cell_type": "code",
   "execution_count": 18,
   "metadata": {},
   "outputs": [
    {
     "data": {
      "text/plain": [
       "0.27358490566037735"
      ]
     },
     "execution_count": 18,
     "metadata": {},
     "output_type": "execute_result"
    }
   ],
   "source": [
    "29 / (77 + 29)"
   ]
  },
  {
   "cell_type": "code",
   "execution_count": 19,
   "metadata": {},
   "outputs": [
    {
     "data": {
      "text/plain": [
       "0.2698412698412698"
      ]
     },
     "execution_count": 19,
     "metadata": {},
     "output_type": "execute_result"
    }
   ],
   "source": [
    "34 / (92 + 34)"
   ]
  },
  {
   "cell_type": "code",
   "execution_count": 14,
   "metadata": {},
   "outputs": [
    {
     "data": {
      "text/plain": [
       "disease_info\n",
       "False    199\n",
       "True      73\n",
       "Name: patient_id, dtype: int64"
      ]
     },
     "execution_count": 14,
     "metadata": {},
     "output_type": "execute_result"
    }
   ],
   "source": [
    "train_new.groupby('disease_info').patient_id.nunique()"
   ]
  },
  {
   "cell_type": "code",
   "execution_count": 15,
   "metadata": {},
   "outputs": [
    {
     "data": {
      "text/plain": [
       "disease_info\n",
       "False    77\n",
       "True     29\n",
       "Name: patient_id, dtype: int64"
      ]
     },
     "execution_count": 15,
     "metadata": {},
     "output_type": "execute_result"
    }
   ],
   "source": [
    "val_new.groupby('disease_info').patient_id.nunique()"
   ]
  },
  {
   "cell_type": "code",
   "execution_count": 19,
   "metadata": {},
   "outputs": [
    {
     "data": {
      "text/plain": [
       "disease_info\n",
       "False    92\n",
       "True     34\n",
       "Name: patient_id, dtype: int64"
      ]
     },
     "execution_count": 19,
     "metadata": {},
     "output_type": "execute_result"
    }
   ],
   "source": [
    "test_new.groupby('disease_info').patient_id.nunique()"
   ]
  },
  {
   "cell_type": "code",
   "execution_count": 10,
   "metadata": {},
   "outputs": [
    {
     "name": "stdout",
     "output_type": "stream",
     "text": [
      "(3046, 9)\n",
      "(2711, 19)\n"
     ]
    }
   ],
   "source": [
    "print(train.shape)\n",
    "print(train_new.shape)"
   ]
  },
  {
   "cell_type": "code",
   "execution_count": 15,
   "metadata": {},
   "outputs": [
    {
     "name": "stdout",
     "output_type": "stream",
     "text": [
      "(1109, 9)\n",
      "(1081, 19)\n"
     ]
    }
   ],
   "source": [
    "print(val.shape)\n",
    "print(val_new.shape)"
   ]
  },
  {
   "cell_type": "code",
   "execution_count": 16,
   "metadata": {},
   "outputs": [
    {
     "name": "stdout",
     "output_type": "stream",
     "text": [
      "(1122, 9)\n",
      "(1053, 19)\n"
     ]
    }
   ],
   "source": [
    "print(test.shape)\n",
    "print(test_new.shape)"
   ]
  },
  {
   "cell_type": "code",
   "execution_count": 92,
   "metadata": {},
   "outputs": [],
   "source": [
    "import datetime"
   ]
  },
  {
   "cell_type": "code",
   "execution_count": 93,
   "metadata": {},
   "outputs": [],
   "source": [
    "train_new[\"b_date\"] = train_new[\"birthdate\"].apply(lambda x: datetime.datetime.fromtimestamp(x))\n",
    "train_new[\"c_date\"] = train_new[\"ts\"].apply(lambda x: datetime.datetime.fromtimestamp(x))"
   ]
  },
  {
   "cell_type": "code",
   "execution_count": 94,
   "metadata": {},
   "outputs": [],
   "source": [
    "def calculate_age(c_d, b_d):\n",
    "    return c_d.year - b_d.year - ((c_d.month, c_d.day) < (b_d.month, b_d.day))"
   ]
  },
  {
   "cell_type": "code",
   "execution_count": null,
   "metadata": {},
   "outputs": [],
   "source": []
  },
  {
   "cell_type": "code",
   "execution_count": 95,
   "metadata": {},
   "outputs": [],
   "source": [
    "def get_age(df):\n",
    "    df = df.copy()\n",
    "    df[\"b_date\"] = df[\"birthdate\"].apply(lambda x: datetime.datetime.fromtimestamp(x))\n",
    "    df[\"c_date\"] = df[\"ts\"].apply(lambda x: datetime.datetime.fromtimestamp(x))\n",
    "    df[\"age\"] = df[[\"c_date\", \"b_date\"]].apply(lambda x: calculate_age(x[0], x[1]), axis=1)\n",
    "    return df\n",
    "train_new = get_age(train_new)\n",
    "test_new = get_age(test_new)\n",
    "val_new = get_age(val_new)"
   ]
  },
  {
   "cell_type": "code",
   "execution_count": 96,
   "metadata": {},
   "outputs": [],
   "source": []
  },
  {
   "cell_type": "code",
   "execution_count": null,
   "metadata": {},
   "outputs": [],
   "source": []
  },
  {
   "cell_type": "code",
   "execution_count": 73,
   "metadata": {},
   "outputs": [
    {
     "data": {
      "text/plain": [
       "disease_info\n",
       "False    66\n",
       "True     46\n",
       "Name: age, dtype: int64"
      ]
     },
     "execution_count": 73,
     "metadata": {},
     "output_type": "execute_result"
    }
   ],
   "source": [
    "train_new.groupby([\"disease_info\"]).age.median()"
   ]
  },
  {
   "cell_type": "code",
   "execution_count": 74,
   "metadata": {},
   "outputs": [
    {
     "data": {
      "text/plain": [
       "disease_info\n",
       "False    47\n",
       "True     39\n",
       "Name: age, dtype: int64"
      ]
     },
     "execution_count": 74,
     "metadata": {},
     "output_type": "execute_result"
    }
   ],
   "source": [
    "val_new.groupby([\"disease_info\"]).age.median()"
   ]
  },
  {
   "cell_type": "code",
   "execution_count": 82,
   "metadata": {},
   "outputs": [
    {
     "data": {
      "text/plain": [
       "disease_info\n",
       "False    93\n",
       "True     79\n",
       "Name: age, dtype: int64"
      ]
     },
     "execution_count": 82,
     "metadata": {},
     "output_type": "execute_result"
    }
   ],
   "source": [
    "test_new.groupby([\"disease_info\"]).age.max()"
   ]
  },
  {
   "cell_type": "code",
   "execution_count": 66,
   "metadata": {},
   "outputs": [
    {
     "data": {
      "text/plain": [
       "19"
      ]
     },
     "execution_count": 66,
     "metadata": {},
     "output_type": "execute_result"
    }
   ],
   "source": [
    "train_new.age.min()"
   ]
  },
  {
   "cell_type": "code",
   "execution_count": 53,
   "metadata": {},
   "outputs": [
    {
     "data": {
      "text/plain": [
       "0      1958-10-24 03:00:00\n",
       "1      1973-08-09 03:00:00\n",
       "2      1967-04-22 03:00:00\n",
       "3      1963-05-28 03:00:00\n",
       "4      1941-01-20 03:00:00\n",
       "               ...        \n",
       "2706   1984-01-03 03:00:00\n",
       "2707   1982-03-31 03:00:00\n",
       "2708   1982-03-31 03:00:00\n",
       "2709   1982-03-31 03:00:00\n",
       "2710   1976-02-18 03:00:00\n",
       "Name: b_date, Length: 2711, dtype: datetime64[ns]"
      ]
     },
     "execution_count": 53,
     "metadata": {},
     "output_type": "execute_result"
    }
   ],
   "source": [
    "train_new[\"b_date\"]"
   ]
  },
  {
   "cell_type": "code",
   "execution_count": 51,
   "metadata": {},
   "outputs": [
    {
     "name": "stdout",
     "output_type": "stream",
     "text": [
      "1958-10-24 03:00:00\n"
     ]
    }
   ],
   "source": [
    "value = datetime.datetime.fromtimestamp(train_new[\"birthdate\"][0])\n",
    "print(value.strftime('%Y-%m-%d %H:%M:%S'))"
   ]
  },
  {
   "cell_type": "code",
   "execution_count": 12,
   "metadata": {},
   "outputs": [
    {
     "data": {
      "text/plain": [
       "(2711, 19)"
      ]
     },
     "execution_count": 12,
     "metadata": {},
     "output_type": "execute_result"
    }
   ],
   "source": [
    "train_new.shape"
   ]
  },
  {
   "cell_type": "code",
   "execution_count": 47,
   "metadata": {},
   "outputs": [
    {
     "data": {
      "text/plain": [
       "0      -353116800\n",
       "1       113702400\n",
       "2       -85104000\n",
       "3      -208224000\n",
       "4      -913507200\n",
       "          ...    \n",
       "2706    441936000\n",
       "2707    386380800\n",
       "2708    386380800\n",
       "2709    386380800\n",
       "2710    193449600\n",
       "Name: birthdate, Length: 2711, dtype: int64"
      ]
     },
     "execution_count": 47,
     "metadata": {},
     "output_type": "execute_result"
    }
   ],
   "source": [
    "train_new[\"birthdate\"]"
   ]
  },
  {
   "cell_type": "code",
   "execution_count": 22,
   "metadata": {},
   "outputs": [
    {
     "data": {
      "text/plain": [
       "True"
      ]
     },
     "execution_count": 22,
     "metadata": {},
     "output_type": "execute_result"
    }
   ],
   "source": [
    "np.all(test_new[\"disease_info\"] == test_new[\"di\"])"
   ]
  },
  {
   "cell_type": "code",
   "execution_count": 17,
   "metadata": {},
   "outputs": [
    {
     "data": {
      "text/plain": [
       "di     gender\n",
       "False  1         0.839920\n",
       "       2         0.160080\n",
       "True   2         0.589888\n",
       "       1         0.410112\n",
       "Name: gender, dtype: float64"
      ]
     },
     "execution_count": 17,
     "metadata": {},
     "output_type": "execute_result"
    }
   ],
   "source": [
    "train_new.groupby([\"di\"]).gender.value_counts(normalize=True)"
   ]
  },
  {
   "cell_type": "code",
   "execution_count": 23,
   "metadata": {},
   "outputs": [
    {
     "data": {
      "text/plain": [
       "di     gender\n",
       "False  2         0.611111\n",
       "       1         0.388889\n",
       "True   1         0.517241\n",
       "       2         0.482759\n",
       "Name: gender, dtype: float64"
      ]
     },
     "execution_count": 23,
     "metadata": {},
     "output_type": "execute_result"
    }
   ],
   "source": [
    "test_new.groupby([\"di\"]).gender.value_counts(normalize=True)"
   ]
  },
  {
   "cell_type": "code",
   "execution_count": 25,
   "metadata": {},
   "outputs": [
    {
     "data": {
      "text/plain": [
       "di     gender\n",
       "False  2         0.615572\n",
       "       1         0.384428\n",
       "True   2         0.513514\n",
       "       1         0.486486\n",
       "Name: gender, dtype: float64"
      ]
     },
     "execution_count": 25,
     "metadata": {},
     "output_type": "execute_result"
    }
   ],
   "source": [
    "val_new.groupby([\"di\"]).gender.value_counts(normalize=True)"
   ]
  },
  {
   "cell_type": "code",
   "execution_count": 76,
   "metadata": {},
   "outputs": [],
   "source": [
    "pred = np.zeros(test_new.shape[0])"
   ]
  },
  {
   "cell_type": "code",
   "execution_count": 77,
   "metadata": {},
   "outputs": [],
   "source": [
    "pred[(test_new[\"age\"] > 30) &  (test_new[\"age\"] < 45) ] = 1"
   ]
  },
  {
   "cell_type": "code",
   "execution_count": 78,
   "metadata": {},
   "outputs": [
    {
     "data": {
      "text/plain": [
       "(1053,)"
      ]
     },
     "execution_count": 78,
     "metadata": {},
     "output_type": "execute_result"
    }
   ],
   "source": [
    "test_new[\"di\"].values.shape"
   ]
  },
  {
   "cell_type": "code",
   "execution_count": 80,
   "metadata": {},
   "outputs": [
    {
     "data": {
      "text/plain": [
       "0.4780999651689307"
      ]
     },
     "execution_count": 80,
     "metadata": {},
     "output_type": "execute_result"
    }
   ],
   "source": [
    "roc_auc_score(test_new[\"di\"].values, pred.astype(bool))"
   ]
  },
  {
   "cell_type": "code",
   "execution_count": 81,
   "metadata": {},
   "outputs": [
    {
     "data": {
      "text/plain": [
       "0.47768281101614435"
      ]
     },
     "execution_count": 81,
     "metadata": {},
     "output_type": "execute_result"
    }
   ],
   "source": [
    "accuracy_score(test_new[\"di\"], pred)"
   ]
  },
  {
   "cell_type": "code",
   "execution_count": null,
   "metadata": {},
   "outputs": [],
   "source": []
  },
  {
   "cell_type": "code",
   "execution_count": null,
   "metadata": {},
   "outputs": [],
   "source": []
  },
  {
   "cell_type": "code",
   "execution_count": 6,
   "metadata": {},
   "outputs": [
    {
     "data": {
      "text/plain": [
       "False    2334\n",
       "True      712\n",
       "Name: disease_info, dtype: int64"
      ]
     },
     "execution_count": 6,
     "metadata": {},
     "output_type": "execute_result"
    }
   ],
   "source": [
    "train[\"disease_info\"].value_counts()"
   ]
  },
  {
   "cell_type": "code",
   "execution_count": 7,
   "metadata": {},
   "outputs": [
    {
     "data": {
      "text/plain": [
       "False    861\n",
       "True     261\n",
       "Name: disease_info, dtype: int64"
      ]
     },
     "execution_count": 7,
     "metadata": {},
     "output_type": "execute_result"
    }
   ],
   "source": [
    "test[\"disease_info\"].value_counts()"
   ]
  },
  {
   "cell_type": "code",
   "execution_count": 8,
   "metadata": {},
   "outputs": [
    {
     "data": {
      "text/plain": [
       "False    850\n",
       "True     259\n",
       "Name: disease_info, dtype: int64"
      ]
     },
     "execution_count": 8,
     "metadata": {},
     "output_type": "execute_result"
    }
   ],
   "source": [
    "val[\"disease_info\"].value_counts()"
   ]
  },
  {
   "cell_type": "code",
   "execution_count": 10,
   "metadata": {},
   "outputs": [
    {
     "data": {
      "text/plain": [
       "False    1526\n",
       "True      562\n",
       "Name: disease_info, dtype: int64"
      ]
     },
     "execution_count": 10,
     "metadata": {},
     "output_type": "execute_result"
    }
   ],
   "source": [
    "tb_info.disease_info.value_counts()"
   ]
  },
  {
   "cell_type": "code",
   "execution_count": 28,
   "metadata": {},
   "outputs": [],
   "source": [
    "from sklearn.metrics import roc_auc_score, accuracy_score"
   ]
  },
  {
   "cell_type": "code",
   "execution_count": 42,
   "metadata": {},
   "outputs": [
    {
     "data": {
      "text/plain": [
       "0.5"
      ]
     },
     "execution_count": 42,
     "metadata": {},
     "output_type": "execute_result"
    }
   ],
   "source": [
    "roc_auc_score(val[\"disease_info\"], np.zeros(val.shape[0]))"
   ]
  },
  {
   "cell_type": "code",
   "execution_count": 43,
   "metadata": {},
   "outputs": [
    {
     "data": {
      "text/plain": [
       "0.7535908075327162"
      ]
     },
     "execution_count": 43,
     "metadata": {},
     "output_type": "execute_result"
    }
   ],
   "source": [
    "accuracy_score(val[\"disease_info\"], np.zeros(val.shape[0]))"
   ]
  },
  {
   "cell_type": "code",
   "execution_count": 7,
   "metadata": {},
   "outputs": [],
   "source": [
    "## Чтение данных"
   ]
  },
  {
   "cell_type": "code",
   "execution_count": null,
   "metadata": {},
   "outputs": [],
   "source": []
  },
  {
   "cell_type": "code",
   "execution_count": 26,
   "metadata": {},
   "outputs": [
    {
     "ename": "AttributeError",
     "evalue": "'Series' object has no attribute 'patient_id'",
     "output_type": "error",
     "traceback": [
      "\u001b[0;31m---------------------------------------------------------------------------\u001b[0m",
      "\u001b[0;31mAttributeError\u001b[0m                            Traceback (most recent call last)",
      "\u001b[0;32m<ipython-input-26-42c2c0d14c8c>\u001b[0m in \u001b[0;36m<module>\u001b[0;34m\u001b[0m\n\u001b[0;32m----> 1\u001b[0;31m \u001b[0mval\u001b[0m\u001b[0;34m[\u001b[0m\u001b[0;34m\"disease_info\"\u001b[0m\u001b[0;34m]\u001b[0m\u001b[0;34m.\u001b[0m\u001b[0mpatient_id\u001b[0m\u001b[0;34m.\u001b[0m\u001b[0mnunique\u001b[0m\u001b[0;34m(\u001b[0m\u001b[0;34m)\u001b[0m\u001b[0;34m\u001b[0m\u001b[0;34m\u001b[0m\u001b[0m\n\u001b[0m",
      "\u001b[0;32m~/signals_venv/lib/python3.7/site-packages/pandas/core/generic.py\u001b[0m in \u001b[0;36m__getattr__\u001b[0;34m(self, name)\u001b[0m\n\u001b[1;32m   5177\u001b[0m             \u001b[0;32mif\u001b[0m \u001b[0mself\u001b[0m\u001b[0;34m.\u001b[0m\u001b[0m_info_axis\u001b[0m\u001b[0;34m.\u001b[0m\u001b[0m_can_hold_identifiers_and_holds_name\u001b[0m\u001b[0;34m(\u001b[0m\u001b[0mname\u001b[0m\u001b[0;34m)\u001b[0m\u001b[0;34m:\u001b[0m\u001b[0;34m\u001b[0m\u001b[0;34m\u001b[0m\u001b[0m\n\u001b[1;32m   5178\u001b[0m                 \u001b[0;32mreturn\u001b[0m \u001b[0mself\u001b[0m\u001b[0;34m[\u001b[0m\u001b[0mname\u001b[0m\u001b[0;34m]\u001b[0m\u001b[0;34m\u001b[0m\u001b[0;34m\u001b[0m\u001b[0m\n\u001b[0;32m-> 5179\u001b[0;31m             \u001b[0;32mreturn\u001b[0m \u001b[0mobject\u001b[0m\u001b[0;34m.\u001b[0m\u001b[0m__getattribute__\u001b[0m\u001b[0;34m(\u001b[0m\u001b[0mself\u001b[0m\u001b[0;34m,\u001b[0m \u001b[0mname\u001b[0m\u001b[0;34m)\u001b[0m\u001b[0;34m\u001b[0m\u001b[0;34m\u001b[0m\u001b[0m\n\u001b[0m\u001b[1;32m   5180\u001b[0m \u001b[0;34m\u001b[0m\u001b[0m\n\u001b[1;32m   5181\u001b[0m     \u001b[0;32mdef\u001b[0m \u001b[0m__setattr__\u001b[0m\u001b[0;34m(\u001b[0m\u001b[0mself\u001b[0m\u001b[0;34m,\u001b[0m \u001b[0mname\u001b[0m\u001b[0;34m,\u001b[0m \u001b[0mvalue\u001b[0m\u001b[0;34m)\u001b[0m\u001b[0;34m:\u001b[0m\u001b[0;34m\u001b[0m\u001b[0;34m\u001b[0m\u001b[0m\n",
      "\u001b[0;31mAttributeError\u001b[0m: 'Series' object has no attribute 'patient_id'"
     ]
    }
   ],
   "source": [
    "val[\"disease_info\"].patient_id.nunique()"
   ]
  },
  {
   "cell_type": "code",
   "execution_count": 107,
   "metadata": {},
   "outputs": [
    {
     "data": {
      "text/plain": [
       "(3133, 9)"
      ]
     },
     "execution_count": 107,
     "metadata": {},
     "output_type": "execute_result"
    }
   ],
   "source": [
    "val.shape"
   ]
  },
  {
   "cell_type": "code",
   "execution_count": 110,
   "metadata": {},
   "outputs": [
    {
     "data": {
      "text/html": [
       "<div>\n",
       "<style scoped>\n",
       "    .dataframe tbody tr th:only-of-type {\n",
       "        vertical-align: middle;\n",
       "    }\n",
       "\n",
       "    .dataframe tbody tr th {\n",
       "        vertical-align: top;\n",
       "    }\n",
       "\n",
       "    .dataframe thead th {\n",
       "        text-align: right;\n",
       "    }\n",
       "</style>\n",
       "<table border=\"1\" class=\"dataframe\">\n",
       "  <thead>\n",
       "    <tr style=\"text-align: right;\">\n",
       "      <th></th>\n",
       "      <th>RL_ECG</th>\n",
       "      <th>cardiogram_id</th>\n",
       "      <th>disease_info</th>\n",
       "      <th>lenrpeaks</th>\n",
       "      <th>lenrpeaks_rl</th>\n",
       "      <th>patient_id</th>\n",
       "      <th>rpeaks_rl</th>\n",
       "      <th>ECG_F</th>\n",
       "      <th>rpeaks</th>\n",
       "    </tr>\n",
       "  </thead>\n",
       "  <tbody>\n",
       "    <tr>\n",
       "      <th>2402</th>\n",
       "      <td>[-100.13182469273775, -74.49139575343038, -1.4...</td>\n",
       "      <td>44405</td>\n",
       "      <td>False</td>\n",
       "      <td>276</td>\n",
       "      <td>229</td>\n",
       "      <td>5009</td>\n",
       "      <td>[36, 174, 313, 364, 451, 591, 730, 782, 869, 1...</td>\n",
       "      <td>[-160.0, -163.0, -164.0, -164.0, -162.0, -159....</td>\n",
       "      <td>[424, 1183, 2501, 3277, 4573, 5418, 6723, 7429...</td>\n",
       "    </tr>\n",
       "    <tr>\n",
       "      <th>1975</th>\n",
       "      <td>[-4.533189230643871, 55.03491719156937, -38.65...</td>\n",
       "      <td>39777</td>\n",
       "      <td>True</td>\n",
       "      <td>293</td>\n",
       "      <td>292</td>\n",
       "      <td>4618</td>\n",
       "      <td>[105, 171, 236, 302, 366, 431, 495, 558, 624, ...</td>\n",
       "      <td>[-32.0, -26.0, -21.0, -18.0, -17.0, -16.0, -16...</td>\n",
       "      <td>[729, 1767, 2822, 3845, 4882, 5926, 6938, 7985...</td>\n",
       "    </tr>\n",
       "    <tr>\n",
       "      <th>1235</th>\n",
       "      <td>[-0.5018691936559738, -0.7180755192515232, 4.3...</td>\n",
       "      <td>31692</td>\n",
       "      <td>False</td>\n",
       "      <td>331</td>\n",
       "      <td>316</td>\n",
       "      <td>4071</td>\n",
       "      <td>[59, 94, 182, 226, 305, 366, 476, 492, 550, 61...</td>\n",
       "      <td>[-82.0, -81.0, -83.0, -75.0, -71.0, -65.0, -63...</td>\n",
       "      <td>[77, 993, 1917, 2842, 3769, 4694, 5577, 6637, ...</td>\n",
       "    </tr>\n",
       "    <tr>\n",
       "      <th>853</th>\n",
       "      <td>[1019.683428899761, 4077.3758142538722, 2078.2...</td>\n",
       "      <td>35489</td>\n",
       "      <td>False</td>\n",
       "      <td>326</td>\n",
       "      <td>317</td>\n",
       "      <td>4444</td>\n",
       "      <td>[64, 125, 186, 281, 333, 359, 490, 550, 612, 6...</td>\n",
       "      <td>[-58.0, -67.0, -75.0, -83.0, -91.0, -102.0, -1...</td>\n",
       "      <td>[94, 981, 1880, 2760, 3639, 4530, 5397, 5942, ...</td>\n",
       "    </tr>\n",
       "    <tr>\n",
       "      <th>2814</th>\n",
       "      <td>[5.2543215205655756, 39.18861590187359, 27.343...</td>\n",
       "      <td>58353</td>\n",
       "      <td>False</td>\n",
       "      <td>418</td>\n",
       "      <td>230</td>\n",
       "      <td>1103</td>\n",
       "      <td>[29, 78, 128, 277, 327, 424, 521, 657, 703, 75...</td>\n",
       "      <td>[-31.0, -16.0, -2.0, 9.0, 19.0, 27.0, 33.0, 37...</td>\n",
       "      <td>[438, 1168, 1918, 2664, 3416, 4159, 4904, 5632...</td>\n",
       "    </tr>\n",
       "    <tr>\n",
       "      <th>...</th>\n",
       "      <td>...</td>\n",
       "      <td>...</td>\n",
       "      <td>...</td>\n",
       "      <td>...</td>\n",
       "      <td>...</td>\n",
       "      <td>...</td>\n",
       "      <td>...</td>\n",
       "      <td>...</td>\n",
       "      <td>...</td>\n",
       "    </tr>\n",
       "    <tr>\n",
       "      <th>1921</th>\n",
       "      <td>[119.87533435921428, -110.17913613914635, -285...</td>\n",
       "      <td>40745</td>\n",
       "      <td>True</td>\n",
       "      <td>569</td>\n",
       "      <td>282</td>\n",
       "      <td>4477</td>\n",
       "      <td>[113, 148, 253, 357, 426, 530, 633, 667, 701, ...</td>\n",
       "      <td>[273.0, 273.0, 273.0, 277.0, 274.0, 271.0, 270...</td>\n",
       "      <td>[128, 642, 1162, 1682, 2202, 2723, 3242, 3757,...</td>\n",
       "    </tr>\n",
       "    <tr>\n",
       "      <th>709</th>\n",
       "      <td>[-85.6452993711755, -33.74359842470577, -59.73...</td>\n",
       "      <td>35125</td>\n",
       "      <td>False</td>\n",
       "      <td>369</td>\n",
       "      <td>360</td>\n",
       "      <td>1254</td>\n",
       "      <td>[16, 116, 167, 269, 322, 375, 428, 482, 533, 6...</td>\n",
       "      <td>[1218.0, 1440.0, 1667.0, 1898.0, 2127.0, 2356....</td>\n",
       "      <td>[14, 822, 1626, 2398, 3173, 3972, 4798, 5601, ...</td>\n",
       "    </tr>\n",
       "    <tr>\n",
       "      <th>2487</th>\n",
       "      <td>[-39.85037495221639, -47.35509831467011, -35.8...</td>\n",
       "      <td>46744</td>\n",
       "      <td>True</td>\n",
       "      <td>392</td>\n",
       "      <td>307</td>\n",
       "      <td>4707</td>\n",
       "      <td>[63, 118, 175, 234, 292, 347, 399, 450, 593, 6...</td>\n",
       "      <td>[-12.0, -5.0, 0.0, 0.0, 0.0, 0.0, 0.0, 0.0, 0....</td>\n",
       "      <td>[160, 920, 1622, 2319, 3037, 3764, 4460, 5140,...</td>\n",
       "    </tr>\n",
       "    <tr>\n",
       "      <th>174</th>\n",
       "      <td>[52.07518002585508, 174.88191714077698, 43.558...</td>\n",
       "      <td>33616</td>\n",
       "      <td>True</td>\n",
       "      <td>464</td>\n",
       "      <td>279</td>\n",
       "      <td>4294</td>\n",
       "      <td>[66, 119, 171, 268, 318, 369, 469, 519, 571, 6...</td>\n",
       "      <td>[20.0, 39.0, 60.0, 77.0, 98.0, 112.0, 131.0, 1...</td>\n",
       "      <td>[221, 994, 1785, 2573, 3307, 4019, 4765, 5528,...</td>\n",
       "    </tr>\n",
       "    <tr>\n",
       "      <th>1146</th>\n",
       "      <td>[80.25868428613735, -108.63904293385337, -80.8...</td>\n",
       "      <td>36107</td>\n",
       "      <td>False</td>\n",
       "      <td>500</td>\n",
       "      <td>259</td>\n",
       "      <td>4489</td>\n",
       "      <td>[7, 119, 207, 248, 290, 355, 368, 463, 516, 59...</td>\n",
       "      <td>[59.0, 75.0, 90.0, 106.0, 120.0, 129.0, 136.0,...</td>\n",
       "      <td>[350, 968, 1544, 2214, 2755, 3357, 4050, 4577,...</td>\n",
       "    </tr>\n",
       "  </tbody>\n",
       "</table>\n",
       "<p>3133 rows × 9 columns</p>\n",
       "</div>"
      ],
      "text/plain": [
       "                                                 RL_ECG  cardiogram_id  \\\n",
       "2402  [-100.13182469273775, -74.49139575343038, -1.4...          44405   \n",
       "1975  [-4.533189230643871, 55.03491719156937, -38.65...          39777   \n",
       "1235  [-0.5018691936559738, -0.7180755192515232, 4.3...          31692   \n",
       "853   [1019.683428899761, 4077.3758142538722, 2078.2...          35489   \n",
       "2814  [5.2543215205655756, 39.18861590187359, 27.343...          58353   \n",
       "...                                                 ...            ...   \n",
       "1921  [119.87533435921428, -110.17913613914635, -285...          40745   \n",
       "709   [-85.6452993711755, -33.74359842470577, -59.73...          35125   \n",
       "2487  [-39.85037495221639, -47.35509831467011, -35.8...          46744   \n",
       "174   [52.07518002585508, 174.88191714077698, 43.558...          33616   \n",
       "1146  [80.25868428613735, -108.63904293385337, -80.8...          36107   \n",
       "\n",
       "      disease_info  lenrpeaks  lenrpeaks_rl  patient_id  \\\n",
       "2402         False        276           229        5009   \n",
       "1975          True        293           292        4618   \n",
       "1235         False        331           316        4071   \n",
       "853          False        326           317        4444   \n",
       "2814         False        418           230        1103   \n",
       "...            ...        ...           ...         ...   \n",
       "1921          True        569           282        4477   \n",
       "709          False        369           360        1254   \n",
       "2487          True        392           307        4707   \n",
       "174           True        464           279        4294   \n",
       "1146         False        500           259        4489   \n",
       "\n",
       "                                              rpeaks_rl  \\\n",
       "2402  [36, 174, 313, 364, 451, 591, 730, 782, 869, 1...   \n",
       "1975  [105, 171, 236, 302, 366, 431, 495, 558, 624, ...   \n",
       "1235  [59, 94, 182, 226, 305, 366, 476, 492, 550, 61...   \n",
       "853   [64, 125, 186, 281, 333, 359, 490, 550, 612, 6...   \n",
       "2814  [29, 78, 128, 277, 327, 424, 521, 657, 703, 75...   \n",
       "...                                                 ...   \n",
       "1921  [113, 148, 253, 357, 426, 530, 633, 667, 701, ...   \n",
       "709   [16, 116, 167, 269, 322, 375, 428, 482, 533, 6...   \n",
       "2487  [63, 118, 175, 234, 292, 347, 399, 450, 593, 6...   \n",
       "174   [66, 119, 171, 268, 318, 369, 469, 519, 571, 6...   \n",
       "1146  [7, 119, 207, 248, 290, 355, 368, 463, 516, 59...   \n",
       "\n",
       "                                                  ECG_F  \\\n",
       "2402  [-160.0, -163.0, -164.0, -164.0, -162.0, -159....   \n",
       "1975  [-32.0, -26.0, -21.0, -18.0, -17.0, -16.0, -16...   \n",
       "1235  [-82.0, -81.0, -83.0, -75.0, -71.0, -65.0, -63...   \n",
       "853   [-58.0, -67.0, -75.0, -83.0, -91.0, -102.0, -1...   \n",
       "2814  [-31.0, -16.0, -2.0, 9.0, 19.0, 27.0, 33.0, 37...   \n",
       "...                                                 ...   \n",
       "1921  [273.0, 273.0, 273.0, 277.0, 274.0, 271.0, 270...   \n",
       "709   [1218.0, 1440.0, 1667.0, 1898.0, 2127.0, 2356....   \n",
       "2487  [-12.0, -5.0, 0.0, 0.0, 0.0, 0.0, 0.0, 0.0, 0....   \n",
       "174   [20.0, 39.0, 60.0, 77.0, 98.0, 112.0, 131.0, 1...   \n",
       "1146  [59.0, 75.0, 90.0, 106.0, 120.0, 129.0, 136.0,...   \n",
       "\n",
       "                                                 rpeaks  \n",
       "2402  [424, 1183, 2501, 3277, 4573, 5418, 6723, 7429...  \n",
       "1975  [729, 1767, 2822, 3845, 4882, 5926, 6938, 7985...  \n",
       "1235  [77, 993, 1917, 2842, 3769, 4694, 5577, 6637, ...  \n",
       "853   [94, 981, 1880, 2760, 3639, 4530, 5397, 5942, ...  \n",
       "2814  [438, 1168, 1918, 2664, 3416, 4159, 4904, 5632...  \n",
       "...                                                 ...  \n",
       "1921  [128, 642, 1162, 1682, 2202, 2723, 3242, 3757,...  \n",
       "709   [14, 822, 1626, 2398, 3173, 3972, 4798, 5601, ...  \n",
       "2487  [160, 920, 1622, 2319, 3037, 3764, 4460, 5140,...  \n",
       "174   [221, 994, 1785, 2573, 3307, 4019, 4765, 5528,...  \n",
       "1146  [350, 968, 1544, 2214, 2755, 3357, 4050, 4577,...  \n",
       "\n",
       "[3133 rows x 9 columns]"
      ]
     },
     "execution_count": 110,
     "metadata": {},
     "output_type": "execute_result"
    }
   ],
   "source": [
    "val.sample(min(val.shape[0], 4000), random_state=4)"
   ]
  },
  {
   "cell_type": "code",
   "execution_count": 106,
   "metadata": {},
   "outputs": [],
   "source": [
    "train.reset_index(inplace=True, drop=True)\n",
    "test.reset_index(inplace=True, drop=True)\n",
    "val.reset_index(inplace=True, drop=True)"
   ]
  },
  {
   "cell_type": "code",
   "execution_count": 97,
   "metadata": {
    "scrolled": true
   },
   "outputs": [
    {
     "name": "stderr",
     "output_type": "stream",
     "text": [
      "  0%|          | 0/3046 [00:00<?, ?it/s]"
     ]
    },
    {
     "name": "stdout",
     "output_type": "stream",
     "text": [
      "here1\n"
     ]
    },
    {
     "name": "stderr",
     "output_type": "stream",
     "text": [
      "/home/a.gurianov/TBAugmentation/DataLoader.py:13: NumbaPerformanceWarning: \n",
      "The keyword argument 'parallel=True' was specified but no transformation for parallel execution was possible.\n",
      "\n",
      "To find out why, try turning on parallel diagnostics, see http://numba.pydata.org/numba-doc/latest/user/parallel.html#diagnostics for help.\n",
      "\n",
      "File \"DataLoader.py\", line 36:\n",
      "@njit(parallel=True)\n",
      "def split_to_parts(a, max_length, min_length):\n",
      "^\n",
      "\n",
      "  new_array = split_to_parts(a, max_length, min_length)\n",
      "/home/a.gurianov/signals_venv/lib/python3.7/site-packages/numba/typed_passes.py:271: NumbaPerformanceWarning: \n",
      "The keyword argument 'parallel=True' was specified but no transformation for parallel execution was possible.\n",
      "\n",
      "To find out why, try turning on parallel diagnostics, see http://numba.pydata.org/numba-doc/latest/user/parallel.html#diagnostics for help.\n",
      "\n",
      "File \"DataLoader.py\", line 12:\n",
      "@njit(parallel=True)\n",
      "def split_to_parts_with_r(a, max_length, min_length, r=None):\n",
      "^\n",
      "\n",
      "  state.func_ir.loc))\n",
      "100%|██████████| 3046/3046 [00:01<00:00, 1921.68it/s]\n"
     ]
    },
    {
     "name": "stdout",
     "output_type": "stream",
     "text": [
      "here\n"
     ]
    },
    {
     "name": "stderr",
     "output_type": "stream",
     "text": [
      "100%|██████████| 1122/1122 [00:00<00:00, 15767.11it/s]"
     ]
    },
    {
     "name": "stdout",
     "output_type": "stream",
     "text": [
      "here1\n",
      "here\n"
     ]
    },
    {
     "name": "stderr",
     "output_type": "stream",
     "text": [
      "\n",
      "100%|██████████| 1109/1109 [00:00<00:00, 15405.37it/s]"
     ]
    },
    {
     "name": "stdout",
     "output_type": "stream",
     "text": [
      "here1\n",
      "here\n"
     ]
    },
    {
     "name": "stderr",
     "output_type": "stream",
     "text": [
      "\n"
     ]
    }
   ],
   "source": [
    "## Разбиение сигналов на более короткие\n",
    "\n",
    "train = split_long_signals(train, 30000, 100000, \"ECG_F\", rpeaks=True)\n",
    "test = split_long_signals(test, 30000, 100000, \"ECG_F\", rpeaks=True)\n",
    "val = split_long_signals(val, 30000, 100000, \"ECG_F\", rpeaks=True)"
   ]
  },
  {
   "cell_type": "code",
   "execution_count": 103,
   "metadata": {},
   "outputs": [
    {
     "data": {
      "text/plain": [
       "False    345\n",
       "True      55\n",
       "Name: disease_info, dtype: int64"
      ]
     },
     "execution_count": 103,
     "metadata": {},
     "output_type": "execute_result"
    }
   ],
   "source": [
    "train[:400].disease_info.value_counts()"
   ]
  },
  {
   "cell_type": "code",
   "execution_count": 29,
   "metadata": {},
   "outputs": [
    {
     "data": {
      "text/plain": [
       "(8520, 9)"
      ]
     },
     "execution_count": 29,
     "metadata": {},
     "output_type": "execute_result"
    }
   ],
   "source": [
    "train.shape"
   ]
  },
  {
   "cell_type": "code",
   "execution_count": 30,
   "metadata": {},
   "outputs": [
    {
     "data": {
      "text/plain": [
       "(3044, 9)"
      ]
     },
     "execution_count": 30,
     "metadata": {},
     "output_type": "execute_result"
    }
   ],
   "source": [
    "test.shape"
   ]
  },
  {
   "cell_type": "code",
   "execution_count": 31,
   "metadata": {},
   "outputs": [
    {
     "data": {
      "text/plain": [
       "(3133, 9)"
      ]
     },
     "execution_count": 31,
     "metadata": {},
     "output_type": "execute_result"
    }
   ],
   "source": [
    "val.shape"
   ]
  },
  {
   "cell_type": "code",
   "execution_count": 11,
   "metadata": {},
   "outputs": [],
   "source": [
    "train[\"rpeaks\"] = train.rpeaks.apply(lambda x: np.array(x))\n",
    "test[\"rpeaks\"] = test.rpeaks.apply(lambda x: np.array(x))\n",
    "test[\"rpeaks\"] = test.rpeaks.apply(lambda x: np.array(x))"
   ]
  },
  {
   "cell_type": "code",
   "execution_count": 12,
   "metadata": {},
   "outputs": [
    {
     "data": {
      "text/plain": [
       "[<matplotlib.lines.Line2D at 0x7fe5c5cd7080>]"
      ]
     },
     "execution_count": 12,
     "metadata": {},
     "output_type": "execute_result"
    },
    {
     "data": {
      "image/png": "[encoded data removed]",
      "text/plain": [
       "<Figure size 432x288 with 1 Axes>"
      ]
     },
     "metadata": {
      "needs_background": "light"
     },
     "output_type": "display_data"
    }
   ],
   "source": [
    "df = train\n",
    "s_b = 0\n",
    "s_len = 4000\n",
    "s_ind = 0\n",
    "\n",
    "cut_rpeaks = df[\"rpeaks\"][s_ind][(df[\"rpeaks\"][s_ind] <= s_len) & (df[\"rpeaks\"][s_ind] >= s_b)]\n",
    "plt.plot(range(s_b, s_len), df[\"ECG_F\"][s_ind][s_b:s_len])\n",
    "plt.plot(cut_rpeaks, [df[\"ECG_F\"][s_ind][i] for i in cut_rpeaks])"
   ]
  },
  {
   "cell_type": "code",
   "execution_count": 13,
   "metadata": {},
   "outputs": [
    {
     "data": {
      "text/plain": [
       "[<matplotlib.lines.Line2D at 0x7fe5c5b6b0f0>]"
      ]
     },
     "execution_count": 13,
     "metadata": {},
     "output_type": "execute_result"
    },
    {
     "data": {
      "image/png": "[encoded data removed]",
      "text/plain": [
       "<Figure size 432x288 with 1 Axes>"
      ]
     },
     "metadata": {
      "needs_background": "light"
     },
     "output_type": "display_data"
    }
   ],
   "source": [
    "df = train\n",
    "s_b = 0\n",
    "s_len = 4000\n",
    "s_ind = 1\n",
    "\n",
    "cut_rpeaks = df[\"rpeaks\"][s_ind][(df[\"rpeaks\"][s_ind] <= s_len) & (df[\"rpeaks\"][s_ind] >= s_b)]\n",
    "plt.plot(range(s_b, s_len), df[\"ECG_F\"][s_ind][s_b:s_len])\n",
    "plt.plot(cut_rpeaks, [df[\"ECG_F\"][s_ind][i] for i in cut_rpeaks])"
   ]
  },
  {
   "cell_type": "code",
   "execution_count": 14,
   "metadata": {},
   "outputs": [],
   "source": [
    "def del_bad_signals(df):\n",
    "    df = df.copy()\n",
    "    df = df[df[\"lenrpeaks\"] > 20].copy()\n",
    "    df.reset_index(inplace=True, drop=True)\n",
    "    return df\n",
    "\n",
    "train = del_bad_signals(train)\n",
    "test = del_bad_signals(test)\n",
    "val = del_bad_signals(val)"
   ]
  },
  {
   "cell_type": "code",
   "execution_count": 15,
   "metadata": {},
   "outputs": [
    {
     "name": "stdout",
     "output_type": "stream",
     "text": [
      "ok\n"
     ]
    }
   ],
   "source": [
    "print(\"ok\")"
   ]
  },
  {
   "cell_type": "code",
   "execution_count": 16,
   "metadata": {},
   "outputs": [],
   "source": [
    "train[\"SignalLen\"] = train[\"ECG_F\"].apply(lambda x: len(x))\n",
    "test[\"SignalLen\"] = test[\"ECG_F\"].apply(lambda x: len(x))\n",
    "val[\"SignalLen\"] = val[\"ECG_F\"].apply(lambda x: len(x))"
   ]
  },
  {
   "cell_type": "code",
   "execution_count": 17,
   "metadata": {},
   "outputs": [
    {
     "data": {
      "text/plain": [
       "100000"
      ]
     },
     "execution_count": 17,
     "metadata": {},
     "output_type": "execute_result"
    }
   ],
   "source": [
    "train.SignalLen.max()"
   ]
  },
  {
   "cell_type": "code",
   "execution_count": 18,
   "metadata": {},
   "outputs": [
    {
     "data": {
      "text/plain": [
       "30459"
      ]
     },
     "execution_count": 18,
     "metadata": {},
     "output_type": "execute_result"
    }
   ],
   "source": [
    "train.SignalLen.min()"
   ]
  },
  {
   "cell_type": "code",
   "execution_count": 19,
   "metadata": {},
   "outputs": [
    {
     "data": {
      "text/plain": [
       "98591.32628859927"
      ]
     },
     "execution_count": 19,
     "metadata": {},
     "output_type": "execute_result"
    }
   ],
   "source": [
    "train.SignalLen.mean()"
   ]
  },
  {
   "cell_type": "code",
   "execution_count": 20,
   "metadata": {},
   "outputs": [],
   "source": [
    "## Разбираемся с величиной пика"
   ]
  },
  {
   "cell_type": "code",
   "execution_count": 21,
   "metadata": {},
   "outputs": [],
   "source": [
    "train[\"diff_r_peaks\"] = train[\"rpeaks\"].apply(lambda x: np.diff(x))\n",
    "test[\"diff_r_peaks\"] = test[\"rpeaks\"].apply(lambda x: np.diff(x))\n",
    "val[\"diff_r_peaks\"] = val[\"rpeaks\"].apply(lambda x: np.diff(x))"
   ]
  },
  {
   "cell_type": "code",
   "execution_count": 22,
   "metadata": {},
   "outputs": [],
   "source": [
    "train[\"max_diff_r_peaks\"] = train[\"diff_r_peaks\"].apply(lambda x: np.max(x))\n",
    "test[\"max_diff_r_peaks\"] = test[\"diff_r_peaks\"].apply(lambda x: np.max(x))\n",
    "val[\"max_diff_r_peaks\"] = val[\"diff_r_peaks\"].apply(lambda x: np.max(x))"
   ]
  },
  {
   "cell_type": "code",
   "execution_count": 23,
   "metadata": {},
   "outputs": [],
   "source": [
    "def count_signal_points(df):\n",
    "    df = df.copy()\n",
    "    df[\"num_bad_peaks\"] = df[\"diff_r_peaks\"].apply(lambda x: len(list(filter(lambda x: (x > 1400) or (x < 400), x))))\n",
    "    return df\n",
    "train = count_signal_points(train)\n",
    "test = count_signal_points(test)\n",
    "val = count_signal_points(val)"
   ]
  },
  {
   "cell_type": "code",
   "execution_count": 24,
   "metadata": {},
   "outputs": [
    {
     "name": "stdout",
     "output_type": "stream",
     "text": [
      "2.154397088176588\n",
      "2.678172255095332\n",
      "2.083306734759017\n"
     ]
    }
   ],
   "source": [
    "print(train[\"num_bad_peaks\"].mean())\n",
    "print(test[\"num_bad_peaks\"].mean())\n",
    "print(val[\"num_bad_peaks\"].mean())"
   ]
  },
  {
   "cell_type": "code",
   "execution_count": 25,
   "metadata": {},
   "outputs": [
    {
     "name": "stdout",
     "output_type": "stream",
     "text": [
      "0\n",
      "0\n",
      "0\n"
     ]
    }
   ],
   "source": [
    "print(train[\"num_bad_peaks\"].min())\n",
    "print(test[\"num_bad_peaks\"].min())\n",
    "print(val[\"num_bad_peaks\"].min())"
   ]
  },
  {
   "cell_type": "code",
   "execution_count": 26,
   "metadata": {},
   "outputs": [
    {
     "name": "stdout",
     "output_type": "stream",
     "text": [
      "136\n",
      "132\n",
      "216\n"
     ]
    }
   ],
   "source": [
    "print(train[\"num_bad_peaks\"].max())\n",
    "print(test[\"num_bad_peaks\"].max())\n",
    "print(val[\"num_bad_peaks\"].max())"
   ]
  },
  {
   "cell_type": "code",
   "execution_count": 27,
   "metadata": {},
   "outputs": [],
   "source": [
    "train[\"pr_bad_peaks\"] = train[\"num_bad_peaks\"] / train[\"lenrpeaks\"]\n",
    "test[\"pr_bad_peaks\"] = test[\"num_bad_peaks\"] / test[\"lenrpeaks\"]\n",
    "val[\"pr_bad_peaks\"] = val[\"num_bad_peaks\"] / val[\"lenrpeaks\"]"
   ]
  },
  {
   "cell_type": "code",
   "execution_count": 28,
   "metadata": {},
   "outputs": [
    {
     "name": "stdout",
     "output_type": "stream",
     "text": [
      "(17, 14)\n",
      "(0, 14)\n",
      "(0, 14)\n"
     ]
    }
   ],
   "source": [
    "print(train[train[\"pr_bad_peaks\"] > 0.55].shape)\n",
    "print(test[test[\"pr_bad_peaks\"] > 0.55].shape)\n",
    "print(val[val[\"pr_bad_peaks\"] > 0.55].shape)"
   ]
  },
  {
   "cell_type": "code",
   "execution_count": 29,
   "metadata": {},
   "outputs": [],
   "source": [
    "def del_signals_with_bad_peaks(df):\n",
    "    df = df.copy()\n",
    "    df = df[df[\"pr_bad_peaks\"] <= 0.55].copy()\n",
    "    df.reset_index(inplace=True, drop=True)\n",
    "    return df"
   ]
  },
  {
   "cell_type": "code",
   "execution_count": 30,
   "metadata": {},
   "outputs": [],
   "source": [
    "train = del_signals_with_bad_peaks(train)\n",
    "test = del_signals_with_bad_peaks(test)\n",
    "val = del_signals_with_bad_peaks(val)"
   ]
  },
  {
   "cell_type": "code",
   "execution_count": 31,
   "metadata": {},
   "outputs": [
    {
     "data": {
      "text/plain": [
       "[<matplotlib.lines.Line2D at 0x7fe5c5cd7978>]"
      ]
     },
     "execution_count": 31,
     "metadata": {},
     "output_type": "execute_result"
    },
    {
     "data": {
      "image/png": "[encoded data removed]",
      "text/plain": [
       "<Figure size 432x288 with 1 Axes>"
      ]
     },
     "metadata": {
      "needs_background": "light"
     },
     "output_type": "display_data"
    }
   ],
   "source": [
    "df = train\n",
    "s_b = 0\n",
    "s_len = 4000\n",
    "s_ind = 1062\n",
    "\n",
    "cut_rpeaks = df[\"rpeaks\"][s_ind][(df[\"rpeaks\"][s_ind] <= s_len) & (df[\"rpeaks\"][s_ind] >= s_b)]\n",
    "plt.plot(range(s_b, s_len), df[\"ECG_F\"][s_ind][s_b:s_len])\n",
    "plt.plot(cut_rpeaks, [df[\"ECG_F\"][s_ind][i] for i in cut_rpeaks])"
   ]
  },
  {
   "cell_type": "code",
   "execution_count": null,
   "metadata": {},
   "outputs": [],
   "source": []
  },
  {
   "cell_type": "code",
   "execution_count": 32,
   "metadata": {},
   "outputs": [
    {
     "data": {
      "text/plain": [
       "55606"
      ]
     },
     "execution_count": 32,
     "metadata": {},
     "output_type": "execute_result"
    }
   ],
   "source": [
    "train[\"max_diff_r_peaks\"].max()"
   ]
  },
  {
   "cell_type": "code",
   "execution_count": 33,
   "metadata": {},
   "outputs": [
    {
     "data": {
      "text/plain": [
       "33960"
      ]
     },
     "execution_count": 33,
     "metadata": {},
     "output_type": "execute_result"
    }
   ],
   "source": [
    "test[\"max_diff_r_peaks\"].max()"
   ]
  },
  {
   "cell_type": "code",
   "execution_count": 34,
   "metadata": {},
   "outputs": [
    {
     "data": {
      "text/plain": [
       "33641"
      ]
     },
     "execution_count": 34,
     "metadata": {},
     "output_type": "execute_result"
    }
   ],
   "source": [
    "val[\"max_diff_r_peaks\"].max()"
   ]
  },
  {
   "cell_type": "code",
   "execution_count": 35,
   "metadata": {},
   "outputs": [],
   "source": [
    "from scipy.signal import resample_poly"
   ]
  },
  {
   "cell_type": "code",
   "execution_count": 37,
   "metadata": {},
   "outputs": [],
   "source": [
    "##Ресемплинг сигнала\n",
    "train[\"ECG_R\"] = train.ECG_F.apply(lambda x: resample_poly(x, 1, 5)) \n",
    "test[\"ECG_R\"] = test.ECG_F.apply(lambda x: resample_poly(x, 1, 5))\n",
    "val[\"ECG_R\"] = val.ECG_F.apply(lambda x: resample_poly(x, 1, 5))"
   ]
  },
  {
   "cell_type": "code",
   "execution_count": 38,
   "metadata": {},
   "outputs": [],
   "source": [
    "train[\"RSignalLen\"] = train[\"ECG_R\"].apply(lambda x: len(x))\n",
    "test[\"RSignalLen\"] = test[\"ECG_R\"].apply(lambda x: len(x))\n",
    "val[\"RSignalLen\"] = val[\"ECG_R\"].apply(lambda x: len(x))"
   ]
  },
  {
   "cell_type": "code",
   "execution_count": 39,
   "metadata": {},
   "outputs": [
    {
     "data": {
      "text/plain": [
       "20000"
      ]
     },
     "execution_count": 39,
     "metadata": {},
     "output_type": "execute_result"
    }
   ],
   "source": [
    "train.RSignalLen.max()"
   ]
  },
  {
   "cell_type": "code",
   "execution_count": 40,
   "metadata": {},
   "outputs": [],
   "source": [
    "##Нормализация сигналов"
   ]
  },
  {
   "cell_type": "code",
   "execution_count": 41,
   "metadata": {},
   "outputs": [],
   "source": [
    "def norm_signal(x):\n",
    "    return (x - x.min()) / (x.max() - x.min()) * 2 - 1"
   ]
  },
  {
   "cell_type": "code",
   "execution_count": 42,
   "metadata": {},
   "outputs": [],
   "source": [
    "#train[\"ECG_N\"] = train.ECG_F.apply(lambda x: norm_signal(x)) \n",
    "#test[\"ECG_N\"] = test.ECG_F.apply(lambda x: norm_signal(x))\n",
    "#val[\"ECG_N\"] = val.ECG_F.apply(lambda x: norm_signal(x))"
   ]
  },
  {
   "cell_type": "code",
   "execution_count": 43,
   "metadata": {},
   "outputs": [],
   "source": [
    "train[\"RECG_N\"] = train.ECG_R.apply(lambda x: norm_signal(x)) \n",
    "test[\"RECG_N\"] = test.ECG_R.apply(lambda x: norm_signal(x))\n",
    "val[\"RECG_N\"] = val.ECG_R.apply(lambda x: norm_signal(x))"
   ]
  },
  {
   "cell_type": "code",
   "execution_count": 44,
   "metadata": {},
   "outputs": [
    {
     "data": {
      "text/plain": [
       "[<matplotlib.lines.Line2D at 0x7fe5c5d90080>]"
      ]
     },
     "execution_count": 44,
     "metadata": {},
     "output_type": "execute_result"
    },
    {
     "data": {
      "image/png": "[encoded data removed]",
      "text/plain": [
       "<Figure size 432x288 with 1 Axes>"
      ]
     },
     "metadata": {
      "needs_background": "light"
     },
     "output_type": "display_data"
    }
   ],
   "source": [
    "df = train\n",
    "s_b = 0\n",
    "s_len = 500\n",
    "s_ind = 200\n",
    "\n",
    "cut_rpeaks = df[\"rpeaks\"][s_ind][(df[\"rpeaks\"][s_ind] <= s_len) & (df[\"rpeaks\"][s_ind] >= s_b)]\n",
    "plt.plot(range(s_b, s_len), df[\"ECG_R\"][s_ind][s_b:s_len])\n",
    "#plt.plot(cut_rpeaks, [df[\"ECG_R\"][s_ind][i] for i in cut_rpeaks])"
   ]
  },
  {
   "cell_type": "code",
   "execution_count": 45,
   "metadata": {},
   "outputs": [
    {
     "data": {
      "text/plain": [
       "[<matplotlib.lines.Line2D at 0x7fe5c5e49518>]"
      ]
     },
     "execution_count": 45,
     "metadata": {},
     "output_type": "execute_result"
    },
    {
     "data": {
      "image/png": "[encoded data removed]",
      "text/plain": [
       "<Figure size 432x288 with 1 Axes>"
      ]
     },
     "metadata": {
      "needs_background": "light"
     },
     "output_type": "display_data"
    }
   ],
   "source": [
    "df = train\n",
    "s_b = 0\n",
    "s_len = 500\n",
    "s_ind = 200\n",
    "\n",
    "cut_rpeaks = df[\"rpeaks\"][s_ind][(df[\"rpeaks\"][s_ind] <= s_len) & (df[\"rpeaks\"][s_ind] >= s_b)]\n",
    "plt.plot(range(s_b, s_len), df[\"RECG_N\"][s_ind][s_b:s_len])\n",
    "#plt.plot(cut_rpeaks, [df[\"RECG_N\"][s_ind][i] for i in cut_rpeaks])"
   ]
  },
  {
   "cell_type": "code",
   "execution_count": 46,
   "metadata": {},
   "outputs": [],
   "source": [
    "#mean = train[\"ECG_F\"].mean()\n",
    "#std = train[\"ECG_F\"].std()"
   ]
  },
  {
   "cell_type": "code",
   "execution_count": 47,
   "metadata": {},
   "outputs": [],
   "source": [
    "##Доступные размеры картинок для подачи в ResNext\n",
    "## Любой квадратный размер"
   ]
  },
  {
   "cell_type": "code",
   "execution_count": 48,
   "metadata": {},
   "outputs": [],
   "source": [
    "## Преобразование данных (возможное разделение на более короткие сигналы)"
   ]
  },
  {
   "cell_type": "code",
   "execution_count": 49,
   "metadata": {},
   "outputs": [],
   "source": [
    "#peaks_number - максимальное число пиков, определяется на основе доступных размеров ResNext\n",
    "\n",
    "def create_df_rpeak(signal, peaks_number):\n",
    "    \n",
    "    pass\n",
    "\n",
    "def create_image_rpeak(signal, peaks_number):\n",
    "    pass"
   ]
  },
  {
   "cell_type": "code",
   "execution_count": 100,
   "metadata": {},
   "outputs": [],
   "source": [
    "def create_signal_image(signal, n_rows= 75, n_points = 4000, dpi=64, figsize=(17,17), slice_size=1000):\n",
    "    fig, ax = plt.subplots(nrows=n_rows, dpi=dpi,figsize=figsize )\n",
    "    for k in range(n_rows):\n",
    "        ax[k].axis('off')\n",
    "        ax[k].plot(signal[n_points * k:n_points * (k+1)])\n",
    "    fig.tight_layout()\n",
    "    fig.canvas.draw()\n",
    "    \n",
    "    X = np.array(fig.canvas.renderer.buffer_rgba())\n",
    "    plt.close(fig)\n",
    "    return X"
   ]
  },
  {
   "cell_type": "code",
   "execution_count": 93,
   "metadata": {},
   "outputs": [
    {
     "data": {
      "text/plain": [
       "2857.1428571428573"
      ]
     },
     "execution_count": 93,
     "metadata": {},
     "output_type": "execute_result"
    }
   ],
   "source": [
    "20000 / 7"
   ]
  },
  {
   "cell_type": "code",
   "execution_count": 94,
   "metadata": {},
   "outputs": [
    {
     "data": {
      "text/plain": [
       "(20000,)"
      ]
     },
     "execution_count": 94,
     "metadata": {},
     "output_type": "execute_result"
    }
   ],
   "source": [
    "ind = 0\n",
    "train[\"RECG_N\"][ind].shape"
   ]
  },
  {
   "cell_type": "code",
   "execution_count": 95,
   "metadata": {},
   "outputs": [],
   "source": [
    "\n",
    "X = create_signal_image(train[\"RECG_N\"][ind], n_rows = 7, n_points=2857, dpi=70)"
   ]
  },
  {
   "cell_type": "code",
   "execution_count": 96,
   "metadata": {},
   "outputs": [
    {
     "data": {
      "text/plain": [
       "(770, 770, 4)"
      ]
     },
     "execution_count": 96,
     "metadata": {},
     "output_type": "execute_result"
    }
   ],
   "source": [
    "X.shape"
   ]
  },
  {
   "cell_type": "code",
   "execution_count": 97,
   "metadata": {},
   "outputs": [],
   "source": [
    "import cv2"
   ]
  },
  {
   "cell_type": "code",
   "execution_count": 99,
   "metadata": {},
   "outputs": [
    {
     "data": {
      "text/plain": [
       "<matplotlib.image.AxesImage at 0x7fe5c4670e48>"
      ]
     },
     "execution_count": 99,
     "metadata": {},
     "output_type": "execute_result"
    },
    {
     "data": {
      "image/png": "[encoded data removed]",
      "text/plain": [
       "<Figure size 792x792 with 1 Axes>"
      ]
     },
     "metadata": {
      "needs_background": "light"
     },
     "output_type": "display_data"
    }
   ],
   "source": [
    "plt.figure(figsize=(11,11))\n",
    "plt.imshow(X)"
   ]
  },
  {
   "cell_type": "code",
   "execution_count": null,
   "metadata": {},
   "outputs": [],
   "source": []
  },
  {
   "cell_type": "code",
   "execution_count": 56,
   "metadata": {},
   "outputs": [],
   "source": [
    "train[\"index\"] = train.index\n",
    "test[\"index\"] = test.index\n",
    "val[\"index\"] = val.index"
   ]
  },
  {
   "cell_type": "code",
   "execution_count": 57,
   "metadata": {},
   "outputs": [],
   "source": [
    "train[\"label\"] = train.disease_info\n",
    "test[\"label\"] = test.disease_info\n",
    "val[\"label\"] = val.disease_info"
   ]
  },
  {
   "cell_type": "code",
   "execution_count": 58,
   "metadata": {},
   "outputs": [],
   "source": [
    "train[\"path\"] = train[\"index\"].apply(lambda x: \"train_tb_images\"+\"/\"+str(x))\n",
    "test[\"path\"] = test[\"index\"].apply(lambda x: \"test_tb_images\"+\"/\"+str(x))\n",
    "val[\"path\"] = val[\"index\"].apply(lambda x: \"val_tb_images\"+\"/\"+str(x))"
   ]
  },
  {
   "cell_type": "code",
   "execution_count": 59,
   "metadata": {},
   "outputs": [],
   "source": [
    "train[['index', 'label', 'path', 'RSignalLen', 'cardiogram_id', 'disease_info', 'patient_id']].to_csv(\"image_train.csv\", index=False)\n",
    "test[['index', 'label', 'path', 'RSignalLen', 'cardiogram_id', 'disease_info', 'patient_id']].to_csv(\"image_test.csv\", index=False)\n",
    "val[['index', 'label', 'path', 'RSignalLen', 'cardiogram_id', 'disease_info', 'patient_id']].to_csv(\"image_val.csv\", index=False)\n",
    "\n",
    "\n"
   ]
  },
  {
   "cell_type": "code",
   "execution_count": 60,
   "metadata": {},
   "outputs": [
    {
     "name": "stdout",
     "output_type": "stream",
     "text": [
      "ok\n"
     ]
    }
   ],
   "source": [
    "print(\"ok\")"
   ]
  },
  {
   "cell_type": "code",
   "execution_count": 61,
   "metadata": {},
   "outputs": [],
   "source": []
  },
  {
   "cell_type": "code",
   "execution_count": 70,
   "metadata": {},
   "outputs": [],
   "source": [
    "!mkdir val_tb_images"
   ]
  },
  {
   "cell_type": "code",
   "execution_count": null,
   "metadata": {},
   "outputs": [],
   "source": [
    "def create_and_save_image(image, signal_id, path):\n",
    "    x = create_signal_image(image, n_rows = 13, n_points=1539, dpi=70)\n",
    "    with open(path+\"/\"+str(signal_id)+\".npy\", \"wb\") as f:\n",
    "        np.save(f, x)\n",
    "    del x"
   ]
  },
  {
   "cell_type": "code",
   "execution_count": 101,
   "metadata": {},
   "outputs": [],
   "source": []
  },
  {
   "cell_type": "code",
   "execution_count": 67,
   "metadata": {},
   "outputs": [],
   "source": [
    "def create_image_mp(x):\n",
    "    create_and_save_image(x[0], x[1], \"train_tb_images\")\n",
    "\n",
    "with mp.Pool(20) as mp_pool:\n",
    "    mp_pool.map(create_image_mp, zip(train[\"RECG_N\"].values[6000:], train[\"index\"].values[6000:]))"
   ]
  },
  {
   "cell_type": "code",
   "execution_count": 68,
   "metadata": {},
   "outputs": [],
   "source": [
    "def create_image_mp(x):\n",
    "    create_and_save_image(x[0], x[1], \"test_tb_images\")\n",
    "\n",
    "with mp.Pool(20) as mp_pool:\n",
    "    mp_pool.map(create_image_mp, zip(test[\"RECG_N\"].values, test[\"index\"].values))"
   ]
  },
  {
   "cell_type": "code",
   "execution_count": 71,
   "metadata": {},
   "outputs": [],
   "source": [
    "def create_image_mp(x):\n",
    "    create_and_save_image(x[0], x[1], \"val_tb_images\")\n",
    "\n",
    "with mp.Pool(20) as mp_pool:\n",
    "    mp_pool.map(create_image_mp, zip(val[\"RECG_N\"].values, val[\"index\"].values))"
   ]
  },
  {
   "cell_type": "code",
   "execution_count": null,
   "metadata": {},
   "outputs": [],
   "source": [
    "!mkdir"
   ]
  },
  {
   "cell_type": "code",
   "execution_count": null,
   "metadata": {},
   "outputs": [],
   "source": []
  },
  {
   "cell_type": "code",
   "execution_count": null,
   "metadata": {},
   "outputs": [],
   "source": [
    "def create_and_save_image2(image, signal_id, path):\n",
    "    x = create_signal_image(image, n_rows = 7, n_points=2857, dpi=70, figesize=(11, 11))\n",
    "    with open(path+\"/\"+str(signal_id)+\".npy\", \"wb\") as f:\n",
    "        np.save(f, x)\n",
    "    del x"
   ]
  },
  {
   "cell_type": "code",
   "execution_count": null,
   "metadata": {},
   "outputs": [],
   "source": []
  },
  {
   "cell_type": "code",
   "execution_count": null,
   "metadata": {},
   "outputs": [],
   "source": [
    "def resample(x):\n",
    "    return resample_poly(x, 1, 90)"
   ]
  },
  {
   "cell_type": "code",
   "execution_count": 83,
   "metadata": {},
   "outputs": [],
   "source": [
    "#for i, ind in tqdm(zip(train[\"RECG_N\"].values, train[\"index\"].values)):\n",
    "#    create_and_save_image(i, ind, \"train_tb_images\")"
   ]
  },
  {
   "cell_type": "code",
   "execution_count": null,
   "metadata": {},
   "outputs": [],
   "source": [
    "[create_and_save_image(i, ind, \"train_tb_images\") for i, ind in zip(train[\"RECG_N\"], train[\"index\"])]\n",
    "[create_and_save_image(i, ind, \"test_tb_images\") for i, ind in zip(test[\"RECG_N\"], test[\"index\"])]\n",
    "[create_and_save_image(i, ind, \"val_tb_images\") for i, ind in zip(val[\"RECG_N\"], val[\"index\"])]"
   ]
  },
  {
   "cell_type": "code",
   "execution_count": null,
   "metadata": {},
   "outputs": [],
   "source": [
    "train.to_cs"
   ]
  },
  {
   "cell_type": "code",
   "execution_count": null,
   "metadata": {},
   "outputs": [],
   "source": [
    "#train_images = [create_signal_image(i, n_rows = 13, n_points=1539, dpi=70) for i in train[\"RECG_N\"]]\n",
    "#val_images = [create_signal_image(i, n_rows = 13, n_points=1539, dpi=70) for i in val[\"RECG_N\"]]\n",
    "#test_images = [create_signal_image(i, n_rows = 13, n_points=1539, dpi=70) for i in test[\"RECG_N\"]]"
   ]
  },
  {
   "cell_type": "code",
   "execution_count": null,
   "metadata": {},
   "outputs": [],
   "source": [
    "##Ресемплинг данных"
   ]
  },
  {
   "cell_type": "code",
   "execution_count": null,
   "metadata": {},
   "outputs": [],
   "source": [
    "## Обучение нейронной сети с предобученными весами"
   ]
  },
  {
   "cell_type": "code",
   "execution_count": null,
   "metadata": {},
   "outputs": [],
   "source": []
  },
  {
   "cell_type": "code",
   "execution_count": null,
   "metadata": {},
   "outputs": [],
   "source": [
    "## Обучение нейронной сети без предобученных весов"
   ]
  },
  {
   "cell_type": "code",
   "execution_count": null,
   "metadata": {},
   "outputs": [],
   "source": [
    "## Оценка качества"
   ]
  },
  {
   "cell_type": "code",
   "execution_count": null,
   "metadata": {},
   "outputs": [],
   "source": [
    "## Интерпретация данных"
   ]
  },
  {
   "cell_type": "code",
   "execution_count": null,
   "metadata": {},
   "outputs": [],
   "source": []
  },
  {
   "cell_type": "code",
   "execution_count": null,
   "metadata": {},
   "outputs": [],
   "source": []
  },
  {
   "cell_type": "code",
   "execution_count": null,
   "metadata": {},
   "outputs": [],
   "source": []
  },
  {
   "cell_type": "code",
   "execution_count": null,
   "metadata": {},
   "outputs": [],
   "source": []
  },
  {
   "cell_type": "code",
   "execution_count": null,
   "metadata": {},
   "outputs": [],
   "source": []
  }
 ],
 "metadata": {
  "kernelspec": {
   "display_name": "Python 3",
   "language": "python",
   "name": "python3"
  },
  "language_info": {
   "codemirror_mode": {
    "name": "ipython",
    "version": 3
   },
   "file_extension": ".py",
   "mimetype": "text/x-python",
   "name": "python",
   "nbconvert_exporter": "python",
   "pygments_lexer": "ipython3",
   "version": "3.8.5"
  }
 },
 "nbformat": 4,
 "nbformat_minor": 2
}
