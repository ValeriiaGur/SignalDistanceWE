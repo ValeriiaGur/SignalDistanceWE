{
 "cells": [
  {
   "cell_type": "code",
   "execution_count": 3,
   "metadata": {},
   "outputs": [
    {
     "ename": "TypeError",
     "evalue": "pandas() takes 1 positional argument but 2 were given",
     "output_type": "error",
     "traceback": [
      "\u001b[0;31m---------------------------------------------------------------------------\u001b[0m",
      "\u001b[0;31mTypeError\u001b[0m                                 Traceback (most recent call last)",
      "\u001b[0;32m<ipython-input-3-064653400f20>\u001b[0m in \u001b[0;36m<module>\u001b[0;34m\u001b[0m\n\u001b[1;32m      4\u001b[0m \u001b[0;32mimport\u001b[0m \u001b[0mnumpy\u001b[0m \u001b[0;32mas\u001b[0m \u001b[0mnp\u001b[0m\u001b[0;34m\u001b[0m\u001b[0;34m\u001b[0m\u001b[0m\n\u001b[1;32m      5\u001b[0m \u001b[0;32mimport\u001b[0m \u001b[0mjson\u001b[0m\u001b[0;34m\u001b[0m\u001b[0;34m\u001b[0m\u001b[0m\n\u001b[0;32m----> 6\u001b[0;31m \u001b[0;32mfrom\u001b[0m \u001b[0mDataLoader\u001b[0m \u001b[0;32mimport\u001b[0m \u001b[0msave_df\u001b[0m\u001b[0;34m,\u001b[0m \u001b[0mload_df\u001b[0m\u001b[0;34m\u001b[0m\u001b[0;34m\u001b[0m\u001b[0m\n\u001b[0m",
      "\u001b[0;32m~/ SignalDistance/DataCreation/DataLoader.py\u001b[0m in \u001b[0;36m<module>\u001b[0;34m\u001b[0m\n\u001b[1;32m      7\u001b[0m \u001b[0;32mfrom\u001b[0m \u001b[0mtqdm\u001b[0m \u001b[0;32mimport\u001b[0m \u001b[0mtqdm\u001b[0m\u001b[0;34m\u001b[0m\u001b[0;34m\u001b[0m\u001b[0m\n\u001b[1;32m      8\u001b[0m \u001b[0;34m\u001b[0m\u001b[0m\n\u001b[0;32m----> 9\u001b[0;31m \u001b[0mtqdm\u001b[0m\u001b[0;34m.\u001b[0m\u001b[0mpandas\u001b[0m\u001b[0;34m(\u001b[0m\u001b[0;34m\"!\"\u001b[0m\u001b[0;34m)\u001b[0m\u001b[0;34m\u001b[0m\u001b[0;34m\u001b[0m\u001b[0m\n\u001b[0m\u001b[1;32m     10\u001b[0m \u001b[0;34m\u001b[0m\u001b[0m\n\u001b[1;32m     11\u001b[0m \u001b[0;34m@\u001b[0m\u001b[0mnjit\u001b[0m\u001b[0;34m(\u001b[0m\u001b[0mparallel\u001b[0m\u001b[0;34m=\u001b[0m\u001b[0;32mTrue\u001b[0m\u001b[0;34m)\u001b[0m\u001b[0;34m\u001b[0m\u001b[0;34m\u001b[0m\u001b[0m\n",
      "\u001b[0;31mTypeError\u001b[0m: pandas() takes 1 positional argument but 2 were given"
     ]
    }
   ],
   "source": [
    "import wfdb\n",
    "import pandas as pd\n",
    "import os\n",
    "import numpy as np\n",
    "import json\n",
    "from DataLoader import save_df, load_df"
   ]
  },
  {
   "cell_type": "code",
   "execution_count": 2,
   "metadata": {},
   "outputs": [
    {
     "name": "stdout",
     "output_type": "stream",
     "text": [
      "Collecting wfdb\n",
      "  Downloading wfdb-3.3.0-py3-none-any.whl (125 kB)\n",
      "\u001b[K     |████████████████████████████████| 125 kB 369 kB/s eta 0:00:01\n",
      "\u001b[?25hRequirement already satisfied: numpy>=1.10.1 in /Users/valeria.guryanova/anaconda3/lib/python3.8/site-packages (from wfdb) (1.19.2)\n",
      "Requirement already satisfied: pytz>=2017.2 in /Users/valeria.guryanova/anaconda3/lib/python3.8/site-packages (from wfdb) (2020.1)\n",
      "Requirement already satisfied: requests>=2.8.1 in /Users/valeria.guryanova/anaconda3/lib/python3.8/site-packages (from wfdb) (2.24.0)\n",
      "Requirement already satisfied: urllib3>=1.22 in /Users/valeria.guryanova/anaconda3/lib/python3.8/site-packages (from wfdb) (1.25.11)\n",
      "Requirement already satisfied: chardet>=3.0.0 in /Users/valeria.guryanova/anaconda3/lib/python3.8/site-packages (from wfdb) (3.0.4)\n",
      "Requirement already satisfied: idna>=2.2 in /Users/valeria.guryanova/anaconda3/lib/python3.8/site-packages (from wfdb) (2.10)\n",
      "Requirement already satisfied: cycler>=0.10.0 in /Users/valeria.guryanova/anaconda3/lib/python3.8/site-packages (from wfdb) (0.10.0)\n",
      "Requirement already satisfied: scikit-learn>=0.18 in /Users/valeria.guryanova/anaconda3/lib/python3.8/site-packages (from wfdb) (0.23.2)\n",
      "Requirement already satisfied: pyparsing>=2.0.4 in /Users/valeria.guryanova/anaconda3/lib/python3.8/site-packages (from wfdb) (2.4.7)\n",
      "Requirement already satisfied: matplotlib>=2.0.0 in /Users/valeria.guryanova/anaconda3/lib/python3.8/site-packages (from wfdb) (3.3.2)\n",
      "Requirement already satisfied: certifi>=2016.8.2 in /Users/valeria.guryanova/anaconda3/lib/python3.8/site-packages (from wfdb) (2020.6.20)\n",
      "Requirement already satisfied: scipy>=0.17.0 in /Users/valeria.guryanova/anaconda3/lib/python3.8/site-packages (from wfdb) (1.5.2)\n",
      "Requirement already satisfied: joblib>=0.11 in /Users/valeria.guryanova/anaconda3/lib/python3.8/site-packages (from wfdb) (0.17.0)\n",
      "Requirement already satisfied: threadpoolctl>=1.0.0 in /Users/valeria.guryanova/anaconda3/lib/python3.8/site-packages (from wfdb) (2.1.0)\n",
      "Requirement already satisfied: python-dateutil>=2.4.2 in /Users/valeria.guryanova/anaconda3/lib/python3.8/site-packages (from wfdb) (2.8.1)\n",
      "Requirement already satisfied: kiwisolver>=1.1.0 in /Users/valeria.guryanova/anaconda3/lib/python3.8/site-packages (from wfdb) (1.3.0)\n",
      "Requirement already satisfied: pandas>=0.17.0 in /Users/valeria.guryanova/anaconda3/lib/python3.8/site-packages (from wfdb) (1.1.3)\n",
      "Requirement already satisfied: six in /Users/valeria.guryanova/anaconda3/lib/python3.8/site-packages (from cycler>=0.10.0->wfdb) (1.15.0)\n",
      "Requirement already satisfied: pillow>=6.2.0 in /Users/valeria.guryanova/anaconda3/lib/python3.8/site-packages (from matplotlib>=2.0.0->wfdb) (8.0.1)\n",
      "Installing collected packages: wfdb\n",
      "Successfully installed wfdb-3.3.0\n"
     ]
    }
   ],
   "source": [
    "!pip install wfdb"
   ]
  },
  {
   "cell_type": "code",
   "execution_count": null,
   "metadata": {},
   "outputs": [],
   "source": []
  }
 ],
 "metadata": {
  "kernelspec": {
   "display_name": "Python 3",
   "language": "python",
   "name": "python3"
  },
  "language_info": {
   "codemirror_mode": {
    "name": "ipython",
    "version": 3
   },
   "file_extension": ".py",
   "mimetype": "text/x-python",
   "name": "python",
   "nbconvert_exporter": "python",
   "pygments_lexer": "ipython3",
   "version": "3.8.5"
  }
 },
 "nbformat": 4,
 "nbformat_minor": 4
}
