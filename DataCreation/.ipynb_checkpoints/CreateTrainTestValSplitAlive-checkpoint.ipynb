{
 "cells": [
  {
   "cell_type": "code",
   "execution_count": 1,
   "metadata": {},
   "outputs": [],
   "source": [
    "import pandas as pd\n",
    "from DataLoader import load_df\n",
    "from TrainTestSignalCreator import TrainTestSignalCreator\n",
    "from scipy.signal import butter\n",
    "from scipy.signal import medfilt"
   ]
  },
  {
   "cell_type": "code",
   "execution_count": 2,
   "metadata": {},
   "outputs": [],
   "source": [
    "%load_ext autoreload\n",
    "%autoreload 2"
   ]
  },
  {
   "cell_type": "code",
   "execution_count": 3,
   "metadata": {},
   "outputs": [],
   "source": [
    "%matplotlib inline"
   ]
  },
  {
   "cell_type": "code",
   "execution_count": 4,
   "metadata": {},
   "outputs": [],
   "source": [
    "df = load_df(\"alivecor\")"
   ]
  },
  {
   "cell_type": "code",
   "execution_count": 5,
   "metadata": {},
   "outputs": [
    {
     "data": {
      "text/html": [
       "<div>\n",
       "<style scoped>\n",
       "    .dataframe tbody tr th:only-of-type {\n",
       "        vertical-align: middle;\n",
       "    }\n",
       "\n",
       "    .dataframe tbody tr th {\n",
       "        vertical-align: top;\n",
       "    }\n",
       "\n",
       "    .dataframe thead th {\n",
       "        text-align: right;\n",
       "    }\n",
       "</style>\n",
       "<table border=\"1\" class=\"dataframe\">\n",
       "  <thead>\n",
       "    <tr style=\"text-align: right;\">\n",
       "      <th></th>\n",
       "      <th>fs</th>\n",
       "      <th>base_time</th>\n",
       "      <th>sig_name</th>\n",
       "      <th>comments</th>\n",
       "      <th>id</th>\n",
       "      <th>target</th>\n",
       "      <th>ECG</th>\n",
       "    </tr>\n",
       "  </thead>\n",
       "  <tbody>\n",
       "    <tr>\n",
       "      <th>0</th>\n",
       "      <td>300</td>\n",
       "      <td>05:05:15</td>\n",
       "      <td>ECG</td>\n",
       "      <td>NaN</td>\n",
       "      <td>A00001</td>\n",
       "      <td>N</td>\n",
       "      <td>[-0.127, -0.162, -0.197, -0.229, -0.245, -0.25...</td>\n",
       "    </tr>\n",
       "    <tr>\n",
       "      <th>1</th>\n",
       "      <td>300</td>\n",
       "      <td>11:05:25</td>\n",
       "      <td>ECG</td>\n",
       "      <td>NaN</td>\n",
       "      <td>A00002</td>\n",
       "      <td>N</td>\n",
       "      <td>[0.128, 0.157, 0.189, 0.226, 0.25, 0.257, 0.26...</td>\n",
       "    </tr>\n",
       "    <tr>\n",
       "      <th>2</th>\n",
       "      <td>300</td>\n",
       "      <td>12:04:05</td>\n",
       "      <td>ECG</td>\n",
       "      <td>NaN</td>\n",
       "      <td>A00003</td>\n",
       "      <td>N</td>\n",
       "      <td>[0.056, 0.073, 0.085, 0.093, 0.1, 0.107, 0.113...</td>\n",
       "    </tr>\n",
       "    <tr>\n",
       "      <th>3</th>\n",
       "      <td>300</td>\n",
       "      <td>11:05:48</td>\n",
       "      <td>ECG</td>\n",
       "      <td>NaN</td>\n",
       "      <td>A00004</td>\n",
       "      <td>A</td>\n",
       "      <td>[0.519, 0.619, 0.723, 0.827, 0.914, 0.956, 0.9...</td>\n",
       "    </tr>\n",
       "    <tr>\n",
       "      <th>4</th>\n",
       "      <td>300</td>\n",
       "      <td>08:12:08</td>\n",
       "      <td>ECG</td>\n",
       "      <td>NaN</td>\n",
       "      <td>A00005</td>\n",
       "      <td>O</td>\n",
       "      <td>[-0.188, -0.239, -0.274, -0.316, -0.356, -0.37...</td>\n",
       "    </tr>\n",
       "  </tbody>\n",
       "</table>\n",
       "</div>"
      ],
      "text/plain": [
       "    fs base_time sig_name  comments      id target  \\\n",
       "0  300  05:05:15      ECG       NaN  A00001      N   \n",
       "1  300  11:05:25      ECG       NaN  A00002      N   \n",
       "2  300  12:04:05      ECG       NaN  A00003      N   \n",
       "3  300  11:05:48      ECG       NaN  A00004      A   \n",
       "4  300  08:12:08      ECG       NaN  A00005      O   \n",
       "\n",
       "                                                 ECG  \n",
       "0  [-0.127, -0.162, -0.197, -0.229, -0.245, -0.25...  \n",
       "1  [0.128, 0.157, 0.189, 0.226, 0.25, 0.257, 0.26...  \n",
       "2  [0.056, 0.073, 0.085, 0.093, 0.1, 0.107, 0.113...  \n",
       "3  [0.519, 0.619, 0.723, 0.827, 0.914, 0.956, 0.9...  \n",
       "4  [-0.188, -0.239, -0.274, -0.316, -0.356, -0.37...  "
      ]
     },
     "execution_count": 5,
     "metadata": {},
     "output_type": "execute_result"
    }
   ],
   "source": [
    "df.head()"
   ]
  },
  {
   "cell_type": "code",
   "execution_count": 6,
   "metadata": {},
   "outputs": [],
   "source": []
  },
  {
   "cell_type": "code",
   "execution_count": 6,
   "metadata": {},
   "outputs": [],
   "source": [
    "s = TrainTestSignalCreator(df, \"ECG\", \"target\", 300, 3000)"
   ]
  },
  {
   "cell_type": "code",
   "execution_count": 8,
   "metadata": {},
   "outputs": [
    {
     "ename": "TypeError",
     "evalue": "create_filtered_signal() missing 1 required positional argument: 'filter_method'",
     "output_type": "error",
     "traceback": [
      "\u001b[0;31m---------------------------------------------------------------------------\u001b[0m",
      "\u001b[0;31mTypeError\u001b[0m                                 Traceback (most recent call last)",
      "\u001b[0;32m<ipython-input-8-0c0ff3e9ffa1>\u001b[0m in \u001b[0;36m<module>\u001b[0;34m\u001b[0m\n\u001b[1;32m      1\u001b[0m \u001b[0;32mif\u001b[0m \u001b[0m__name__\u001b[0m \u001b[0;34m==\u001b[0m  \u001b[0;34m'__main__'\u001b[0m\u001b[0;34m:\u001b[0m\u001b[0;34m\u001b[0m\u001b[0;34m\u001b[0m\u001b[0m\n\u001b[0;32m----> 2\u001b[0;31m     \u001b[0ms\u001b[0m\u001b[0;34m.\u001b[0m\u001b[0mcreate_filtered_signal\u001b[0m\u001b[0;34m(\u001b[0m\u001b[0mnum_processes\u001b[0m\u001b[0;34m=\u001b[0m\u001b[0;36m12\u001b[0m\u001b[0;34m)\u001b[0m\u001b[0;34m\u001b[0m\u001b[0;34m\u001b[0m\u001b[0m\n\u001b[0m",
      "\u001b[0;31mTypeError\u001b[0m: create_filtered_signal() missing 1 required positional argument: 'filter_method'"
     ]
    }
   ],
   "source": [
    "if __name__ ==  '__main__':\n",
    "    s.create_filtered_signal(num_processes=12)"
   ]
  },
  {
   "cell_type": "code",
   "execution_count": null,
   "metadata": {},
   "outputs": [],
   "source": []
  }
 ],
 "metadata": {
  "kernelspec": {
   "display_name": "Python 3",
   "language": "python",
   "name": "python3"
  },
  "language_info": {
   "codemirror_mode": {
    "name": "ipython",
    "version": 3
   },
   "file_extension": ".py",
   "mimetype": "text/x-python",
   "name": "python",
   "nbconvert_exporter": "python",
   "pygments_lexer": "ipython3",
   "version": "3.8.5"
  }
 },
 "nbformat": 4,
 "nbformat_minor": 4
}
